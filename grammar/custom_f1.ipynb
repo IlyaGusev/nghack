{
 "cells": [
  {
   "cell_type": "code",
   "execution_count": 1,
   "metadata": {},
   "outputs": [],
   "source": [
    "import sklearn.metrics"
   ]
  },
  {
   "cell_type": "code",
   "execution_count": 2,
   "metadata": {},
   "outputs": [],
   "source": [
    "def f1_score(y_true, y_pred, fp_coef=30.0, fn_coef=2.0):\n",
    "    ((tn, fp), (fn, tp)) = sklearn.metrics.confusion_matrix(y_true, y_pred)\n",
    "    return (2 * tp) / (2 * tp + fp_coef * fp + fn_coef * fn)"
   ]
  },
  {
   "cell_type": "code",
   "execution_count": null,
   "metadata": {},
   "outputs": [],
   "source": []
  },
  {
   "cell_type": "code",
   "execution_count": null,
   "metadata": {},
   "outputs": [],
   "source": []
  },
  {
   "cell_type": "code",
   "execution_count": 3,
   "metadata": {},
   "outputs": [],
   "source": [
    "import numpy as np"
   ]
  },
  {
   "cell_type": "code",
   "execution_count": 4,
   "metadata": {},
   "outputs": [
    {
     "name": "stdout",
     "output_type": "stream",
     "text": [
      "test1: ok\n"
     ]
    }
   ],
   "source": [
    "def test1(n_trials=1000, n_samples=1000, eps=1e-6):\n",
    "    for _ in range(n_trials):\n",
    "        y_true = np.random.choice([0, 1], size=(n_samples,))\n",
    "        y_pred = np.random.choice([0, 1], size=(n_samples,))\n",
    "        \n",
    "        f1_custom = f1_score(y_true, y_pred, fp_coef=1.0, fn_coef=1.0)\n",
    "        f1_true = sklearn.metrics.f1_score(y_true, y_pred)\n",
    "        \n",
    "        assert(abs(f1_custom - f1_true) < eps)\n",
    "    print('test1: ok')\n",
    "\n",
    "test1()"
   ]
  },
  {
   "cell_type": "code",
   "execution_count": 5,
   "metadata": {},
   "outputs": [
    {
     "name": "stdout",
     "output_type": "stream",
     "text": [
      "test2: ok\n"
     ]
    }
   ],
   "source": [
    "def test2(n_samples=1000):\n",
    "    y_true = np.random.choice([0, 1], size=(n_samples,))\n",
    "    y_pred = y_true\n",
    "    \n",
    "    f1_custom = f1_score(y_true, y_pred)\n",
    "    \n",
    "    assert(f1_custom == 1)\n",
    "    print('test2: ok')\n",
    "\n",
    "test2()"
   ]
  },
  {
   "cell_type": "code",
   "execution_count": 8,
   "metadata": {},
   "outputs": [
    {
     "name": "stdout",
     "output_type": "stream",
     "text": [
      "test3: ok\n"
     ]
    }
   ],
   "source": [
    "def test3():\n",
    "    y_true = [1, 1, 1, 1, 1, 1, 1, 1, 1, 1, 0, 1, 1, 1, 1, 1]\n",
    "    y_pred = [1, 1, 1, 1, 1, 1, 1, 1, 1, 1, 1, 0, 0, 0, 0, 0]\n",
    "    \n",
    "    f1_custom = f1_score(y_true, y_pred)\n",
    "\n",
    "    assert(f1_custom == 1/3.0)\n",
    "    print('test3: ok')\n",
    "\n",
    "test3()"
   ]
  },
  {
   "cell_type": "code",
   "execution_count": 9,
   "metadata": {},
   "outputs": [
    {
     "name": "stdout",
     "output_type": "stream",
     "text": [
      "test4: ok\n"
     ]
    }
   ],
   "source": [
    "def test4():\n",
    "    y_true = [1, 1, 1, 1, 1, 0, 1, 1, 1, 1, 1]\n",
    "    y_pred = [1, 1, 1, 1, 1, 0, 0, 0, 0, 0, 0]\n",
    "    \n",
    "    f1_custom = f1_score(y_true, y_pred)\n",
    "\n",
    "    assert(f1_custom == 1/2.0)\n",
    "    print('test4: ok')\n",
    "\n",
    "test4()"
   ]
  }
 ],
 "metadata": {
  "kernelspec": {
   "display_name": "Python 3",
   "language": "python",
   "name": "python3"
  },
  "language_info": {
   "codemirror_mode": {
    "name": "ipython",
    "version": 3
   },
   "file_extension": ".py",
   "mimetype": "text/x-python",
   "name": "python",
   "nbconvert_exporter": "python",
   "pygments_lexer": "ipython3",
   "version": "3.7.3"
  }
 },
 "nbformat": 4,
 "nbformat_minor": 2
}
