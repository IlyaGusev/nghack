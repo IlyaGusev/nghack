{
 "cells": [
  {
   "cell_type": "code",
   "execution_count": 1,
   "metadata": {},
   "outputs": [
    {
     "name": "stderr",
     "output_type": "stream",
     "text": [
      "[nltk_data] Downloading package punkt to /home/lyubanenko/nltk_data...\n",
      "[nltk_data]   Package punkt is already up-to-date!\n",
      "[nltk_data] Downloading package stopwords to\n",
      "[nltk_data]     /home/lyubanenko/nltk_data...\n",
      "[nltk_data]   Package stopwords is already up-to-date!\n",
      "[nltk_data] Downloading package perluniprops to\n",
      "[nltk_data]     /home/lyubanenko/nltk_data...\n",
      "[nltk_data]   Package perluniprops is already up-to-date!\n",
      "[nltk_data] Downloading package nonbreaking_prefixes to\n",
      "[nltk_data]     /home/lyubanenko/nltk_data...\n",
      "[nltk_data]   Package nonbreaking_prefixes is already up-to-date!\n"
     ]
    },
    {
     "name": "stdout",
     "output_type": "stream",
     "text": [
      "WARNING:tensorflow:From /home/lyubanenko/.virtualenvs/deeppavlov/lib/python3.7/site-packages/deeppavlov/core/models/tf_model.py:37: The name tf.Session is deprecated. Please use tf.compat.v1.Session instead.\n",
      "\n",
      "WARNING:tensorflow:From /home/lyubanenko/.virtualenvs/deeppavlov/lib/python3.7/site-packages/deeppavlov/core/models/tf_model.py:222: The name tf.placeholder is deprecated. Please use tf.compat.v1.placeholder instead.\n",
      "\n",
      "WARNING:tensorflow:From /home/lyubanenko/.virtualenvs/deeppavlov/lib/python3.7/site-packages/deeppavlov/core/models/tf_model.py:222: The name tf.train.Optimizer is deprecated. Please use tf.compat.v1.train.Optimizer instead.\n",
      "\n"
     ]
    },
    {
     "name": "stderr",
     "output_type": "stream",
     "text": [
      "/home/lyubanenko/.virtualenvs/deeppavlov/lib/python3.7/site-packages/tqdm/autonotebook/__init__.py:18: TqdmExperimentalWarning: Using `tqdm.autonotebook.tqdm` in notebook mode. Use `tqdm.tqdm` instead to force console mode (e.g. in jupyter console)\n",
      "  \" (e.g. in jupyter console)\", TqdmExperimentalWarning)\n"
     ]
    }
   ],
   "source": [
    "import os\n",
    "\n",
    "import itertools\n",
    "import logging\n",
    "import pandas as pd\n",
    "import sklearn.metrics as metrics\n",
    "import yt.wrapper as yt\n",
    "\n",
    "from deeppavlov.models.preprocessors.bert_preprocessor import BertPreprocessor\n",
    "from deeppavlov.models.bert.bert_classifier import BertClassifierModel\n",
    "\n",
    "from tqdm.autonotebook import tqdm"
   ]
  },
  {
   "cell_type": "code",
   "execution_count": 2,
   "metadata": {},
   "outputs": [],
   "source": [
    "tqdm.pandas()"
   ]
  },
  {
   "cell_type": "code",
   "execution_count": 3,
   "metadata": {},
   "outputs": [],
   "source": [
    "logger = logging.getLogger(__name__)\n",
    "logger.setLevel(logging.DEBUG)"
   ]
  },
  {
   "cell_type": "code",
   "execution_count": null,
   "metadata": {},
   "outputs": [],
   "source": []
  },
  {
   "cell_type": "code",
   "execution_count": 4,
   "metadata": {},
   "outputs": [],
   "source": [
    "MODEL_DIR = '/home/lyubanenko/data/deeppavlov_models/rubert_cased_L-12_H-768_A-12_v2'"
   ]
  },
  {
   "cell_type": "code",
   "execution_count": 5,
   "metadata": {},
   "outputs": [
    {
     "name": "stdout",
     "output_type": "stream",
     "text": [
      "WARNING:tensorflow:From /home/lyubanenko/.virtualenvs/deeppavlov/lib/python3.7/site-packages/bert_dp/tokenization.py:125: The name tf.gfile.GFile is deprecated. Please use tf.io.gfile.GFile instead.\n",
      "\n"
     ]
    }
   ],
   "source": [
    "bert_preprocessor_config = {\n",
    "    'vocab_file': os.path.join(MODEL_DIR, 'vocab.txt'),\n",
    "    'do_lower_case': False,\n",
    "    'max_seq_length': 64\n",
    "}\n",
    "bert_preprocessor = BertPreprocessor(**bert_preprocessor_config)"
   ]
  },
  {
   "cell_type": "code",
   "execution_count": 6,
   "metadata": {},
   "outputs": [],
   "source": [
    "input_feats = bert_preprocessor(['Простое ведро (на илл.) стало причиной кровопролитного сражения и гибели более 2000 человек'])"
   ]
  },
  {
   "cell_type": "code",
   "execution_count": 7,
   "metadata": {},
   "outputs": [
    {
     "name": "stdout",
     "output_type": "stream",
     "text": [
      "['[CLS]', 'Просто', '##е', 'ведро', '(', 'на', 'илл', '.', ')', 'стало', 'причиной', 'кровопролит', '##ного', 'сражения', 'и', 'гибели', 'более', '2000', 'человек', '[SEP]']\n",
      "[101, 60949, 842, 114147, 120, 1469, 49629, 132, 122, 8488]\n"
     ]
    }
   ],
   "source": [
    "print(input_feats[0].tokens)\n",
    "print(input_feats[0].input_ids[:10])"
   ]
  },
  {
   "cell_type": "code",
   "execution_count": null,
   "metadata": {},
   "outputs": [],
   "source": []
  },
  {
   "cell_type": "code",
   "execution_count": 8,
   "metadata": {},
   "outputs": [],
   "source": [
    "yt.config[\"proxy\"][\"url\"] = \"hahn.yt.yandex.net\"\n",
    "\n",
    "TRAIN_TABLE = '//home/ynews/ai/datasets/rbc_politics/train'\n",
    "TEST_TABLE = '//home/ynews/ai/datasets/rbc_politics/test'"
   ]
  },
  {
   "cell_type": "code",
   "execution_count": 9,
   "metadata": {},
   "outputs": [],
   "source": [
    "columns=['title', 'target']\n",
    "\n",
    "force = False\n",
    "\n",
    "if not 'train_data' in locals() or force:\n",
    "    train_data = pd.DataFrame(yt.read_table(yt.TablePath(TRAIN_TABLE, columns=columns)))\n",
    "if not 'test_data' in locals() or force:\n",
    "    test_data = pd.DataFrame(yt.read_table(yt.TablePath(TEST_TABLE, columns=columns)))"
   ]
  },
  {
   "cell_type": "code",
   "execution_count": null,
   "metadata": {},
   "outputs": [],
   "source": []
  },
  {
   "cell_type": "code",
   "execution_count": 10,
   "metadata": {},
   "outputs": [
    {
     "data": {
      "application/vnd.jupyter.widget-view+json": {
       "model_id": "0913320edc7c41a5baddcd0ebef2fcdb",
       "version_major": 2,
       "version_minor": 0
      },
      "text/plain": [
       "HBox(children=(IntProgress(value=0, max=10240), HTML(value='')))"
      ]
     },
     "metadata": {},
     "output_type": "display_data"
    },
    {
     "name": "stdout",
     "output_type": "stream",
     "text": [
      "\n"
     ]
    }
   ],
   "source": [
    "train_data_sample_size = 10240\n",
    "train_data_sample = test_data.sample(train_data_sample_size, axis=0)\n",
    "\n",
    "train_data_ = list(train_data_sample['title'].progress_apply(lambda row: bert_preprocessor([row])[0]))\n",
    "train_true_ = list(train_data_sample['target'])"
   ]
  },
  {
   "cell_type": "code",
   "execution_count": 11,
   "metadata": {
    "scrolled": true
   },
   "outputs": [
    {
     "data": {
      "application/vnd.jupyter.widget-view+json": {
       "model_id": "ac5538daf8c040b486a1361f37f34775",
       "version_major": 2,
       "version_minor": 0
      },
      "text/plain": [
       "HBox(children=(IntProgress(value=0, max=256), HTML(value='')))"
      ]
     },
     "metadata": {},
     "output_type": "display_data"
    },
    {
     "name": "stdout",
     "output_type": "stream",
     "text": [
      "\n"
     ]
    }
   ],
   "source": [
    "test_data_sample_size = 256\n",
    "test_data_sample = test_data.sample(test_data_sample_size, axis=0)\n",
    "\n",
    "test_data_ = list(test_data_sample['title'].progress_apply(lambda row: bert_preprocessor([row])[0]))\n",
    "test_true_ = list(test_data_sample['target'])"
   ]
  },
  {
   "cell_type": "code",
   "execution_count": 12,
   "metadata": {},
   "outputs": [
    {
     "name": "stdout",
     "output_type": "stream",
     "text": [
      "3663 10240\n",
      "102 256\n"
     ]
    }
   ],
   "source": [
    "print(sum(train_true_), len(train_true_))\n",
    "print(sum(test_true_), len(test_true_))"
   ]
  },
  {
   "cell_type": "code",
   "execution_count": null,
   "metadata": {},
   "outputs": [],
   "source": []
  },
  {
   "cell_type": "code",
   "execution_count": 13,
   "metadata": {},
   "outputs": [],
   "source": [
    "OUTPUT_DIR = './output'"
   ]
  },
  {
   "cell_type": "code",
   "execution_count": 14,
   "metadata": {},
   "outputs": [
    {
     "name": "stderr",
     "output_type": "stream",
     "text": [
      "Using TensorFlow backend.\n",
      "2019-12-14 19:16:49.669 WARNING in 'deeppavlov.core.models.serializable'['serializable'] at line 49: No load path is set for BertClassifierModel in 'infer' mode. Using save path instead\n"
     ]
    },
    {
     "name": "stdout",
     "output_type": "stream",
     "text": [
      "WARNING:tensorflow:From /home/lyubanenko/.virtualenvs/deeppavlov/lib/python3.7/site-packages/deeppavlov/core/models/tf_model.py:193: The name tf.train.AdamOptimizer is deprecated. Please use tf.compat.v1.train.AdamOptimizer instead.\n",
      "\n",
      "WARNING:tensorflow:From /home/lyubanenko/.virtualenvs/deeppavlov/lib/python3.7/site-packages/deeppavlov/models/bert/bert_classifier.py:84: The name tf.ConfigProto is deprecated. Please use tf.compat.v1.ConfigProto instead.\n",
      "\n",
      "WARNING:tensorflow:From /home/lyubanenko/.virtualenvs/deeppavlov/lib/python3.7/site-packages/deeppavlov/models/bert/bert_classifier.py:161: The name tf.placeholder_with_default is deprecated. Please use tf.compat.v1.placeholder_with_default instead.\n",
      "\n",
      "WARNING:tensorflow:From /home/lyubanenko/.virtualenvs/deeppavlov/lib/python3.7/site-packages/bert_dp/modeling.py:178: The name tf.variable_scope is deprecated. Please use tf.compat.v1.variable_scope instead.\n",
      "\n",
      "WARNING:tensorflow:\n",
      "The TensorFlow contrib module will not be included in TensorFlow 2.0.\n",
      "For more information, please see:\n",
      "  * https://github.com/tensorflow/community/blob/master/rfcs/20180907-contrib-sunset.md\n",
      "  * https://github.com/tensorflow/addons\n",
      "  * https://github.com/tensorflow/io (for I/O related ops)\n",
      "If you depend on functionality not listed there, please file an issue.\n",
      "\n",
      "WARNING:tensorflow:From /home/lyubanenko/.virtualenvs/deeppavlov/lib/python3.7/site-packages/bert_dp/modeling.py:366: calling dropout (from tensorflow.python.ops.nn_ops) with keep_prob is deprecated and will be removed in a future version.\n",
      "Instructions for updating:\n",
      "Please use `rate` instead of `keep_prob`. Rate should be set to `rate = 1 - keep_prob`.\n",
      "WARNING:tensorflow:From /home/lyubanenko/.virtualenvs/deeppavlov/lib/python3.7/site-packages/bert_dp/modeling.py:680: dense (from tensorflow.python.layers.core) is deprecated and will be removed in a future version.\n",
      "Instructions for updating:\n",
      "Use keras.layers.dense instead.\n",
      "WARNING:tensorflow:Entity <bound method Dense.call of <tensorflow.python.layers.core.Dense object at 0x7fedec020c88>> could not be transformed and will be executed as-is. Please report this to the AutgoGraph team. When filing the bug, set the verbosity to 10 (on Linux, `export AUTOGRAPH_VERBOSITY=10`) and attach the full output. Cause: converting <bound method Dense.call of <tensorflow.python.layers.core.Dense object at 0x7fedec020c88>>: AssertionError: Bad argument number for Name: 3, expecting 4\n",
      "WARNING: Entity <bound method Dense.call of <tensorflow.python.layers.core.Dense object at 0x7fedec020c88>> could not be transformed and will be executed as-is. Please report this to the AutgoGraph team. When filing the bug, set the verbosity to 10 (on Linux, `export AUTOGRAPH_VERBOSITY=10`) and attach the full output. Cause: converting <bound method Dense.call of <tensorflow.python.layers.core.Dense object at 0x7fedec020c88>>: AssertionError: Bad argument number for Name: 3, expecting 4\n",
      "WARNING:tensorflow:Entity <bound method Dense.call of <tensorflow.python.layers.core.Dense object at 0x7fedec020c88>> could not be transformed and will be executed as-is. Please report this to the AutgoGraph team. When filing the bug, set the verbosity to 10 (on Linux, `export AUTOGRAPH_VERBOSITY=10`) and attach the full output. Cause: converting <bound method Dense.call of <tensorflow.python.layers.core.Dense object at 0x7fedec020c88>>: AssertionError: Bad argument number for Name: 3, expecting 4\n",
      "WARNING: Entity <bound method Dense.call of <tensorflow.python.layers.core.Dense object at 0x7fedec020c88>> could not be transformed and will be executed as-is. Please report this to the AutgoGraph team. When filing the bug, set the verbosity to 10 (on Linux, `export AUTOGRAPH_VERBOSITY=10`) and attach the full output. Cause: converting <bound method Dense.call of <tensorflow.python.layers.core.Dense object at 0x7fedec020c88>>: AssertionError: Bad argument number for Name: 3, expecting 4\n",
      "WARNING:tensorflow:Entity <bound method Dense.call of <tensorflow.python.layers.core.Dense object at 0x7fedec020ba8>> could not be transformed and will be executed as-is. Please report this to the AutgoGraph team. When filing the bug, set the verbosity to 10 (on Linux, `export AUTOGRAPH_VERBOSITY=10`) and attach the full output. Cause: converting <bound method Dense.call of <tensorflow.python.layers.core.Dense object at 0x7fedec020ba8>>: AssertionError: Bad argument number for Name: 3, expecting 4\n",
      "WARNING: Entity <bound method Dense.call of <tensorflow.python.layers.core.Dense object at 0x7fedec020ba8>> could not be transformed and will be executed as-is. Please report this to the AutgoGraph team. When filing the bug, set the verbosity to 10 (on Linux, `export AUTOGRAPH_VERBOSITY=10`) and attach the full output. Cause: converting <bound method Dense.call of <tensorflow.python.layers.core.Dense object at 0x7fedec020ba8>>: AssertionError: Bad argument number for Name: 3, expecting 4\n",
      "WARNING:tensorflow:Entity <bound method Dense.call of <tensorflow.python.layers.core.Dense object at 0x7fedec020b00>> could not be transformed and will be executed as-is. Please report this to the AutgoGraph team. When filing the bug, set the verbosity to 10 (on Linux, `export AUTOGRAPH_VERBOSITY=10`) and attach the full output. Cause: converting <bound method Dense.call of <tensorflow.python.layers.core.Dense object at 0x7fedec020b00>>: AssertionError: Bad argument number for Name: 3, expecting 4\n",
      "WARNING: Entity <bound method Dense.call of <tensorflow.python.layers.core.Dense object at 0x7fedec020b00>> could not be transformed and will be executed as-is. Please report this to the AutgoGraph team. When filing the bug, set the verbosity to 10 (on Linux, `export AUTOGRAPH_VERBOSITY=10`) and attach the full output. Cause: converting <bound method Dense.call of <tensorflow.python.layers.core.Dense object at 0x7fedec020b00>>: AssertionError: Bad argument number for Name: 3, expecting 4\n",
      "WARNING:tensorflow:Entity <bound method Dense.call of <tensorflow.python.layers.core.Dense object at 0x7fede4175198>> could not be transformed and will be executed as-is. Please report this to the AutgoGraph team. When filing the bug, set the verbosity to 10 (on Linux, `export AUTOGRAPH_VERBOSITY=10`) and attach the full output. Cause: converting <bound method Dense.call of <tensorflow.python.layers.core.Dense object at 0x7fede4175198>>: AssertionError: Bad argument number for Name: 3, expecting 4\n",
      "WARNING: Entity <bound method Dense.call of <tensorflow.python.layers.core.Dense object at 0x7fede4175198>> could not be transformed and will be executed as-is. Please report this to the AutgoGraph team. When filing the bug, set the verbosity to 10 (on Linux, `export AUTOGRAPH_VERBOSITY=10`) and attach the full output. Cause: converting <bound method Dense.call of <tensorflow.python.layers.core.Dense object at 0x7fede4175198>>: AssertionError: Bad argument number for Name: 3, expecting 4\n",
      "WARNING:tensorflow:Entity <bound method Dense.call of <tensorflow.python.layers.core.Dense object at 0x7fede4134f28>> could not be transformed and will be executed as-is. Please report this to the AutgoGraph team. When filing the bug, set the verbosity to 10 (on Linux, `export AUTOGRAPH_VERBOSITY=10`) and attach the full output. Cause: converting <bound method Dense.call of <tensorflow.python.layers.core.Dense object at 0x7fede4134f28>>: AssertionError: Bad argument number for Name: 3, expecting 4\n",
      "WARNING: Entity <bound method Dense.call of <tensorflow.python.layers.core.Dense object at 0x7fede4134f28>> could not be transformed and will be executed as-is. Please report this to the AutgoGraph team. When filing the bug, set the verbosity to 10 (on Linux, `export AUTOGRAPH_VERBOSITY=10`) and attach the full output. Cause: converting <bound method Dense.call of <tensorflow.python.layers.core.Dense object at 0x7fede4134f28>>: AssertionError: Bad argument number for Name: 3, expecting 4\n",
      "WARNING:tensorflow:Entity <bound method Dense.call of <tensorflow.python.layers.core.Dense object at 0x7fed9c12f128>> could not be transformed and will be executed as-is. Please report this to the AutgoGraph team. When filing the bug, set the verbosity to 10 (on Linux, `export AUTOGRAPH_VERBOSITY=10`) and attach the full output. Cause: converting <bound method Dense.call of <tensorflow.python.layers.core.Dense object at 0x7fed9c12f128>>: AssertionError: Bad argument number for Name: 3, expecting 4\n"
     ]
    },
    {
     "name": "stdout",
     "output_type": "stream",
     "text": [
      "WARNING: Entity <bound method Dense.call of <tensorflow.python.layers.core.Dense object at 0x7fed9c12f128>> could not be transformed and will be executed as-is. Please report this to the AutgoGraph team. When filing the bug, set the verbosity to 10 (on Linux, `export AUTOGRAPH_VERBOSITY=10`) and attach the full output. Cause: converting <bound method Dense.call of <tensorflow.python.layers.core.Dense object at 0x7fed9c12f128>>: AssertionError: Bad argument number for Name: 3, expecting 4\n",
      "WARNING:tensorflow:Entity <bound method Dense.call of <tensorflow.python.layers.core.Dense object at 0x7fede4058860>> could not be transformed and will be executed as-is. Please report this to the AutgoGraph team. When filing the bug, set the verbosity to 10 (on Linux, `export AUTOGRAPH_VERBOSITY=10`) and attach the full output. Cause: converting <bound method Dense.call of <tensorflow.python.layers.core.Dense object at 0x7fede4058860>>: AssertionError: Bad argument number for Name: 3, expecting 4\n",
      "WARNING: Entity <bound method Dense.call of <tensorflow.python.layers.core.Dense object at 0x7fede4058860>> could not be transformed and will be executed as-is. Please report this to the AutgoGraph team. When filing the bug, set the verbosity to 10 (on Linux, `export AUTOGRAPH_VERBOSITY=10`) and attach the full output. Cause: converting <bound method Dense.call of <tensorflow.python.layers.core.Dense object at 0x7fede4058860>>: AssertionError: Bad argument number for Name: 3, expecting 4\n",
      "WARNING:tensorflow:Entity <bound method Dense.call of <tensorflow.python.layers.core.Dense object at 0x7fede4058860>> could not be transformed and will be executed as-is. Please report this to the AutgoGraph team. When filing the bug, set the verbosity to 10 (on Linux, `export AUTOGRAPH_VERBOSITY=10`) and attach the full output. Cause: converting <bound method Dense.call of <tensorflow.python.layers.core.Dense object at 0x7fede4058860>>: AssertionError: Bad argument number for Name: 3, expecting 4\n",
      "WARNING: Entity <bound method Dense.call of <tensorflow.python.layers.core.Dense object at 0x7fede4058860>> could not be transformed and will be executed as-is. Please report this to the AutgoGraph team. When filing the bug, set the verbosity to 10 (on Linux, `export AUTOGRAPH_VERBOSITY=10`) and attach the full output. Cause: converting <bound method Dense.call of <tensorflow.python.layers.core.Dense object at 0x7fede4058860>>: AssertionError: Bad argument number for Name: 3, expecting 4\n",
      "WARNING:tensorflow:Entity <bound method Dense.call of <tensorflow.python.layers.core.Dense object at 0x7fedec020320>> could not be transformed and will be executed as-is. Please report this to the AutgoGraph team. When filing the bug, set the verbosity to 10 (on Linux, `export AUTOGRAPH_VERBOSITY=10`) and attach the full output. Cause: converting <bound method Dense.call of <tensorflow.python.layers.core.Dense object at 0x7fedec020320>>: AssertionError: Bad argument number for Name: 3, expecting 4\n",
      "WARNING: Entity <bound method Dense.call of <tensorflow.python.layers.core.Dense object at 0x7fedec020320>> could not be transformed and will be executed as-is. Please report this to the AutgoGraph team. When filing the bug, set the verbosity to 10 (on Linux, `export AUTOGRAPH_VERBOSITY=10`) and attach the full output. Cause: converting <bound method Dense.call of <tensorflow.python.layers.core.Dense object at 0x7fedec020320>>: AssertionError: Bad argument number for Name: 3, expecting 4\n",
      "WARNING:tensorflow:Entity <bound method Dense.call of <tensorflow.python.layers.core.Dense object at 0x7fede4078f98>> could not be transformed and will be executed as-is. Please report this to the AutgoGraph team. When filing the bug, set the verbosity to 10 (on Linux, `export AUTOGRAPH_VERBOSITY=10`) and attach the full output. Cause: converting <bound method Dense.call of <tensorflow.python.layers.core.Dense object at 0x7fede4078f98>>: AssertionError: Bad argument number for Name: 3, expecting 4\n",
      "WARNING: Entity <bound method Dense.call of <tensorflow.python.layers.core.Dense object at 0x7fede4078f98>> could not be transformed and will be executed as-is. Please report this to the AutgoGraph team. When filing the bug, set the verbosity to 10 (on Linux, `export AUTOGRAPH_VERBOSITY=10`) and attach the full output. Cause: converting <bound method Dense.call of <tensorflow.python.layers.core.Dense object at 0x7fede4078f98>>: AssertionError: Bad argument number for Name: 3, expecting 4\n",
      "WARNING:tensorflow:Entity <bound method Dense.call of <tensorflow.python.layers.core.Dense object at 0x7fede402b390>> could not be transformed and will be executed as-is. Please report this to the AutgoGraph team. When filing the bug, set the verbosity to 10 (on Linux, `export AUTOGRAPH_VERBOSITY=10`) and attach the full output. Cause: converting <bound method Dense.call of <tensorflow.python.layers.core.Dense object at 0x7fede402b390>>: AssertionError: Bad argument number for Name: 3, expecting 4\n",
      "WARNING: Entity <bound method Dense.call of <tensorflow.python.layers.core.Dense object at 0x7fede402b390>> could not be transformed and will be executed as-is. Please report this to the AutgoGraph team. When filing the bug, set the verbosity to 10 (on Linux, `export AUTOGRAPH_VERBOSITY=10`) and attach the full output. Cause: converting <bound method Dense.call of <tensorflow.python.layers.core.Dense object at 0x7fede402b390>>: AssertionError: Bad argument number for Name: 3, expecting 4\n",
      "WARNING:tensorflow:Entity <bound method Dense.call of <tensorflow.python.layers.core.Dense object at 0x7fed6f7c1550>> could not be transformed and will be executed as-is. Please report this to the AutgoGraph team. When filing the bug, set the verbosity to 10 (on Linux, `export AUTOGRAPH_VERBOSITY=10`) and attach the full output. Cause: converting <bound method Dense.call of <tensorflow.python.layers.core.Dense object at 0x7fed6f7c1550>>: AssertionError: Bad argument number for Name: 3, expecting 4\n",
      "WARNING: Entity <bound method Dense.call of <tensorflow.python.layers.core.Dense object at 0x7fed6f7c1550>> could not be transformed and will be executed as-is. Please report this to the AutgoGraph team. When filing the bug, set the verbosity to 10 (on Linux, `export AUTOGRAPH_VERBOSITY=10`) and attach the full output. Cause: converting <bound method Dense.call of <tensorflow.python.layers.core.Dense object at 0x7fed6f7c1550>>: AssertionError: Bad argument number for Name: 3, expecting 4\n",
      "WARNING:tensorflow:Entity <bound method Dense.call of <tensorflow.python.layers.core.Dense object at 0x7fed6f7c1550>> could not be transformed and will be executed as-is. Please report this to the AutgoGraph team. When filing the bug, set the verbosity to 10 (on Linux, `export AUTOGRAPH_VERBOSITY=10`) and attach the full output. Cause: converting <bound method Dense.call of <tensorflow.python.layers.core.Dense object at 0x7fed6f7c1550>>: AssertionError: Bad argument number for Name: 3, expecting 4\n",
      "WARNING: Entity <bound method Dense.call of <tensorflow.python.layers.core.Dense object at 0x7fed6f7c1550>> could not be transformed and will be executed as-is. Please report this to the AutgoGraph team. When filing the bug, set the verbosity to 10 (on Linux, `export AUTOGRAPH_VERBOSITY=10`) and attach the full output. Cause: converting <bound method Dense.call of <tensorflow.python.layers.core.Dense object at 0x7fed6f7c1550>>: AssertionError: Bad argument number for Name: 3, expecting 4\n",
      "WARNING:tensorflow:Entity <bound method Dense.call of <tensorflow.python.layers.core.Dense object at 0x7fed6f7c1550>> could not be transformed and will be executed as-is. Please report this to the AutgoGraph team. When filing the bug, set the verbosity to 10 (on Linux, `export AUTOGRAPH_VERBOSITY=10`) and attach the full output. Cause: converting <bound method Dense.call of <tensorflow.python.layers.core.Dense object at 0x7fed6f7c1550>>: AssertionError: Bad argument number for Name: 3, expecting 4\n",
      "WARNING: Entity <bound method Dense.call of <tensorflow.python.layers.core.Dense object at 0x7fed6f7c1550>> could not be transformed and will be executed as-is. Please report this to the AutgoGraph team. When filing the bug, set the verbosity to 10 (on Linux, `export AUTOGRAPH_VERBOSITY=10`) and attach the full output. Cause: converting <bound method Dense.call of <tensorflow.python.layers.core.Dense object at 0x7fed6f7c1550>>: AssertionError: Bad argument number for Name: 3, expecting 4\n"
     ]
    },
    {
     "name": "stdout",
     "output_type": "stream",
     "text": [
      "WARNING:tensorflow:Entity <bound method Dense.call of <tensorflow.python.layers.core.Dense object at 0x7fed74034940>> could not be transformed and will be executed as-is. Please report this to the AutgoGraph team. When filing the bug, set the verbosity to 10 (on Linux, `export AUTOGRAPH_VERBOSITY=10`) and attach the full output. Cause: converting <bound method Dense.call of <tensorflow.python.layers.core.Dense object at 0x7fed74034940>>: AssertionError: Bad argument number for Name: 3, expecting 4\n",
      "WARNING: Entity <bound method Dense.call of <tensorflow.python.layers.core.Dense object at 0x7fed74034940>> could not be transformed and will be executed as-is. Please report this to the AutgoGraph team. When filing the bug, set the verbosity to 10 (on Linux, `export AUTOGRAPH_VERBOSITY=10`) and attach the full output. Cause: converting <bound method Dense.call of <tensorflow.python.layers.core.Dense object at 0x7fed74034940>>: AssertionError: Bad argument number for Name: 3, expecting 4\n",
      "WARNING:tensorflow:Entity <bound method Dense.call of <tensorflow.python.layers.core.Dense object at 0x7fed6f7e9668>> could not be transformed and will be executed as-is. Please report this to the AutgoGraph team. When filing the bug, set the verbosity to 10 (on Linux, `export AUTOGRAPH_VERBOSITY=10`) and attach the full output. Cause: converting <bound method Dense.call of <tensorflow.python.layers.core.Dense object at 0x7fed6f7e9668>>: AssertionError: Bad argument number for Name: 3, expecting 4\n",
      "WARNING: Entity <bound method Dense.call of <tensorflow.python.layers.core.Dense object at 0x7fed6f7e9668>> could not be transformed and will be executed as-is. Please report this to the AutgoGraph team. When filing the bug, set the verbosity to 10 (on Linux, `export AUTOGRAPH_VERBOSITY=10`) and attach the full output. Cause: converting <bound method Dense.call of <tensorflow.python.layers.core.Dense object at 0x7fed6f7e9668>>: AssertionError: Bad argument number for Name: 3, expecting 4\n",
      "WARNING:tensorflow:Entity <bound method Dense.call of <tensorflow.python.layers.core.Dense object at 0x7fede4078f98>> could not be transformed and will be executed as-is. Please report this to the AutgoGraph team. When filing the bug, set the verbosity to 10 (on Linux, `export AUTOGRAPH_VERBOSITY=10`) and attach the full output. Cause: converting <bound method Dense.call of <tensorflow.python.layers.core.Dense object at 0x7fede4078f98>>: AssertionError: Bad argument number for Name: 3, expecting 4\n",
      "WARNING: Entity <bound method Dense.call of <tensorflow.python.layers.core.Dense object at 0x7fede4078f98>> could not be transformed and will be executed as-is. Please report this to the AutgoGraph team. When filing the bug, set the verbosity to 10 (on Linux, `export AUTOGRAPH_VERBOSITY=10`) and attach the full output. Cause: converting <bound method Dense.call of <tensorflow.python.layers.core.Dense object at 0x7fede4078f98>>: AssertionError: Bad argument number for Name: 3, expecting 4\n",
      "WARNING:tensorflow:Entity <bound method Dense.call of <tensorflow.python.layers.core.Dense object at 0x7fee1c024588>> could not be transformed and will be executed as-is. Please report this to the AutgoGraph team. When filing the bug, set the verbosity to 10 (on Linux, `export AUTOGRAPH_VERBOSITY=10`) and attach the full output. Cause: converting <bound method Dense.call of <tensorflow.python.layers.core.Dense object at 0x7fee1c024588>>: AssertionError: Bad argument number for Name: 3, expecting 4\n",
      "WARNING: Entity <bound method Dense.call of <tensorflow.python.layers.core.Dense object at 0x7fee1c024588>> could not be transformed and will be executed as-is. Please report this to the AutgoGraph team. When filing the bug, set the verbosity to 10 (on Linux, `export AUTOGRAPH_VERBOSITY=10`) and attach the full output. Cause: converting <bound method Dense.call of <tensorflow.python.layers.core.Dense object at 0x7fee1c024588>>: AssertionError: Bad argument number for Name: 3, expecting 4\n",
      "WARNING:tensorflow:Entity <bound method Dense.call of <tensorflow.python.layers.core.Dense object at 0x7fee1c024588>> could not be transformed and will be executed as-is. Please report this to the AutgoGraph team. When filing the bug, set the verbosity to 10 (on Linux, `export AUTOGRAPH_VERBOSITY=10`) and attach the full output. Cause: converting <bound method Dense.call of <tensorflow.python.layers.core.Dense object at 0x7fee1c024588>>: AssertionError: Bad argument number for Name: 3, expecting 4\n",
      "WARNING: Entity <bound method Dense.call of <tensorflow.python.layers.core.Dense object at 0x7fee1c024588>> could not be transformed and will be executed as-is. Please report this to the AutgoGraph team. When filing the bug, set the verbosity to 10 (on Linux, `export AUTOGRAPH_VERBOSITY=10`) and attach the full output. Cause: converting <bound method Dense.call of <tensorflow.python.layers.core.Dense object at 0x7fee1c024588>>: AssertionError: Bad argument number for Name: 3, expecting 4\n",
      "WARNING:tensorflow:Entity <bound method Dense.call of <tensorflow.python.layers.core.Dense object at 0x7fee1c024588>> could not be transformed and will be executed as-is. Please report this to the AutgoGraph team. When filing the bug, set the verbosity to 10 (on Linux, `export AUTOGRAPH_VERBOSITY=10`) and attach the full output. Cause: converting <bound method Dense.call of <tensorflow.python.layers.core.Dense object at 0x7fee1c024588>>: AssertionError: Bad argument number for Name: 3, expecting 4\n",
      "WARNING: Entity <bound method Dense.call of <tensorflow.python.layers.core.Dense object at 0x7fee1c024588>> could not be transformed and will be executed as-is. Please report this to the AutgoGraph team. When filing the bug, set the verbosity to 10 (on Linux, `export AUTOGRAPH_VERBOSITY=10`) and attach the full output. Cause: converting <bound method Dense.call of <tensorflow.python.layers.core.Dense object at 0x7fee1c024588>>: AssertionError: Bad argument number for Name: 3, expecting 4\n",
      "WARNING:tensorflow:Entity <bound method Dense.call of <tensorflow.python.layers.core.Dense object at 0x7fed6f55db00>> could not be transformed and will be executed as-is. Please report this to the AutgoGraph team. When filing the bug, set the verbosity to 10 (on Linux, `export AUTOGRAPH_VERBOSITY=10`) and attach the full output. Cause: converting <bound method Dense.call of <tensorflow.python.layers.core.Dense object at 0x7fed6f55db00>>: AssertionError: Bad argument number for Name: 3, expecting 4\n",
      "WARNING: Entity <bound method Dense.call of <tensorflow.python.layers.core.Dense object at 0x7fed6f55db00>> could not be transformed and will be executed as-is. Please report this to the AutgoGraph team. When filing the bug, set the verbosity to 10 (on Linux, `export AUTOGRAPH_VERBOSITY=10`) and attach the full output. Cause: converting <bound method Dense.call of <tensorflow.python.layers.core.Dense object at 0x7fed6f55db00>>: AssertionError: Bad argument number for Name: 3, expecting 4\n",
      "WARNING:tensorflow:Entity <bound method Dense.call of <tensorflow.python.layers.core.Dense object at 0x7fede4134f28>> could not be transformed and will be executed as-is. Please report this to the AutgoGraph team. When filing the bug, set the verbosity to 10 (on Linux, `export AUTOGRAPH_VERBOSITY=10`) and attach the full output. Cause: converting <bound method Dense.call of <tensorflow.python.layers.core.Dense object at 0x7fede4134f28>>: AssertionError: Bad argument number for Name: 3, expecting 4\n",
      "WARNING: Entity <bound method Dense.call of <tensorflow.python.layers.core.Dense object at 0x7fede4134f28>> could not be transformed and will be executed as-is. Please report this to the AutgoGraph team. When filing the bug, set the verbosity to 10 (on Linux, `export AUTOGRAPH_VERBOSITY=10`) and attach the full output. Cause: converting <bound method Dense.call of <tensorflow.python.layers.core.Dense object at 0x7fede4134f28>>: AssertionError: Bad argument number for Name: 3, expecting 4\n",
      "WARNING:tensorflow:Entity <bound method Dense.call of <tensorflow.python.layers.core.Dense object at 0x7fed6f7e9668>> could not be transformed and will be executed as-is. Please report this to the AutgoGraph team. When filing the bug, set the verbosity to 10 (on Linux, `export AUTOGRAPH_VERBOSITY=10`) and attach the full output. Cause: converting <bound method Dense.call of <tensorflow.python.layers.core.Dense object at 0x7fed6f7e9668>>: AssertionError: Bad argument number for Name: 3, expecting 4\n"
     ]
    },
    {
     "name": "stdout",
     "output_type": "stream",
     "text": [
      "WARNING: Entity <bound method Dense.call of <tensorflow.python.layers.core.Dense object at 0x7fed6f7e9668>> could not be transformed and will be executed as-is. Please report this to the AutgoGraph team. When filing the bug, set the verbosity to 10 (on Linux, `export AUTOGRAPH_VERBOSITY=10`) and attach the full output. Cause: converting <bound method Dense.call of <tensorflow.python.layers.core.Dense object at 0x7fed6f7e9668>>: AssertionError: Bad argument number for Name: 3, expecting 4\n",
      "WARNING:tensorflow:Entity <bound method Dense.call of <tensorflow.python.layers.core.Dense object at 0x7fed6f337240>> could not be transformed and will be executed as-is. Please report this to the AutgoGraph team. When filing the bug, set the verbosity to 10 (on Linux, `export AUTOGRAPH_VERBOSITY=10`) and attach the full output. Cause: converting <bound method Dense.call of <tensorflow.python.layers.core.Dense object at 0x7fed6f337240>>: AssertionError: Bad argument number for Name: 3, expecting 4\n",
      "WARNING: Entity <bound method Dense.call of <tensorflow.python.layers.core.Dense object at 0x7fed6f337240>> could not be transformed and will be executed as-is. Please report this to the AutgoGraph team. When filing the bug, set the verbosity to 10 (on Linux, `export AUTOGRAPH_VERBOSITY=10`) and attach the full output. Cause: converting <bound method Dense.call of <tensorflow.python.layers.core.Dense object at 0x7fed6f337240>>: AssertionError: Bad argument number for Name: 3, expecting 4\n",
      "WARNING:tensorflow:Entity <bound method Dense.call of <tensorflow.python.layers.core.Dense object at 0x7fed6f291e10>> could not be transformed and will be executed as-is. Please report this to the AutgoGraph team. When filing the bug, set the verbosity to 10 (on Linux, `export AUTOGRAPH_VERBOSITY=10`) and attach the full output. Cause: converting <bound method Dense.call of <tensorflow.python.layers.core.Dense object at 0x7fed6f291e10>>: AssertionError: Bad argument number for Name: 3, expecting 4\n",
      "WARNING: Entity <bound method Dense.call of <tensorflow.python.layers.core.Dense object at 0x7fed6f291e10>> could not be transformed and will be executed as-is. Please report this to the AutgoGraph team. When filing the bug, set the verbosity to 10 (on Linux, `export AUTOGRAPH_VERBOSITY=10`) and attach the full output. Cause: converting <bound method Dense.call of <tensorflow.python.layers.core.Dense object at 0x7fed6f291e10>>: AssertionError: Bad argument number for Name: 3, expecting 4\n",
      "WARNING:tensorflow:Entity <bound method Dense.call of <tensorflow.python.layers.core.Dense object at 0x7fede40dd8d0>> could not be transformed and will be executed as-is. Please report this to the AutgoGraph team. When filing the bug, set the verbosity to 10 (on Linux, `export AUTOGRAPH_VERBOSITY=10`) and attach the full output. Cause: converting <bound method Dense.call of <tensorflow.python.layers.core.Dense object at 0x7fede40dd8d0>>: AssertionError: Bad argument number for Name: 3, expecting 4\n",
      "WARNING: Entity <bound method Dense.call of <tensorflow.python.layers.core.Dense object at 0x7fede40dd8d0>> could not be transformed and will be executed as-is. Please report this to the AutgoGraph team. When filing the bug, set the verbosity to 10 (on Linux, `export AUTOGRAPH_VERBOSITY=10`) and attach the full output. Cause: converting <bound method Dense.call of <tensorflow.python.layers.core.Dense object at 0x7fede40dd8d0>>: AssertionError: Bad argument number for Name: 3, expecting 4\n",
      "WARNING:tensorflow:Entity <bound method Dense.call of <tensorflow.python.layers.core.Dense object at 0x7fed6f35d6d8>> could not be transformed and will be executed as-is. Please report this to the AutgoGraph team. When filing the bug, set the verbosity to 10 (on Linux, `export AUTOGRAPH_VERBOSITY=10`) and attach the full output. Cause: converting <bound method Dense.call of <tensorflow.python.layers.core.Dense object at 0x7fed6f35d6d8>>: AssertionError: Bad argument number for Name: 3, expecting 4\n",
      "WARNING: Entity <bound method Dense.call of <tensorflow.python.layers.core.Dense object at 0x7fed6f35d6d8>> could not be transformed and will be executed as-is. Please report this to the AutgoGraph team. When filing the bug, set the verbosity to 10 (on Linux, `export AUTOGRAPH_VERBOSITY=10`) and attach the full output. Cause: converting <bound method Dense.call of <tensorflow.python.layers.core.Dense object at 0x7fed6f35d6d8>>: AssertionError: Bad argument number for Name: 3, expecting 4\n",
      "WARNING:tensorflow:Entity <bound method Dense.call of <tensorflow.python.layers.core.Dense object at 0x7fed6f7c1668>> could not be transformed and will be executed as-is. Please report this to the AutgoGraph team. When filing the bug, set the verbosity to 10 (on Linux, `export AUTOGRAPH_VERBOSITY=10`) and attach the full output. Cause: converting <bound method Dense.call of <tensorflow.python.layers.core.Dense object at 0x7fed6f7c1668>>: AssertionError: Bad argument number for Name: 3, expecting 4\n",
      "WARNING: Entity <bound method Dense.call of <tensorflow.python.layers.core.Dense object at 0x7fed6f7c1668>> could not be transformed and will be executed as-is. Please report this to the AutgoGraph team. When filing the bug, set the verbosity to 10 (on Linux, `export AUTOGRAPH_VERBOSITY=10`) and attach the full output. Cause: converting <bound method Dense.call of <tensorflow.python.layers.core.Dense object at 0x7fed6f7c1668>>: AssertionError: Bad argument number for Name: 3, expecting 4\n",
      "WARNING:tensorflow:Entity <bound method Dense.call of <tensorflow.python.layers.core.Dense object at 0x7fede4134f28>> could not be transformed and will be executed as-is. Please report this to the AutgoGraph team. When filing the bug, set the verbosity to 10 (on Linux, `export AUTOGRAPH_VERBOSITY=10`) and attach the full output. Cause: converting <bound method Dense.call of <tensorflow.python.layers.core.Dense object at 0x7fede4134f28>>: AssertionError: Bad argument number for Name: 3, expecting 4\n",
      "WARNING: Entity <bound method Dense.call of <tensorflow.python.layers.core.Dense object at 0x7fede4134f28>> could not be transformed and will be executed as-is. Please report this to the AutgoGraph team. When filing the bug, set the verbosity to 10 (on Linux, `export AUTOGRAPH_VERBOSITY=10`) and attach the full output. Cause: converting <bound method Dense.call of <tensorflow.python.layers.core.Dense object at 0x7fede4134f28>>: AssertionError: Bad argument number for Name: 3, expecting 4\n",
      "WARNING:tensorflow:Entity <bound method Dense.call of <tensorflow.python.layers.core.Dense object at 0x7fed6f0bf2b0>> could not be transformed and will be executed as-is. Please report this to the AutgoGraph team. When filing the bug, set the verbosity to 10 (on Linux, `export AUTOGRAPH_VERBOSITY=10`) and attach the full output. Cause: converting <bound method Dense.call of <tensorflow.python.layers.core.Dense object at 0x7fed6f0bf2b0>>: AssertionError: Bad argument number for Name: 3, expecting 4\n",
      "WARNING: Entity <bound method Dense.call of <tensorflow.python.layers.core.Dense object at 0x7fed6f0bf2b0>> could not be transformed and will be executed as-is. Please report this to the AutgoGraph team. When filing the bug, set the verbosity to 10 (on Linux, `export AUTOGRAPH_VERBOSITY=10`) and attach the full output. Cause: converting <bound method Dense.call of <tensorflow.python.layers.core.Dense object at 0x7fed6f0bf2b0>>: AssertionError: Bad argument number for Name: 3, expecting 4\n",
      "WARNING:tensorflow:Entity <bound method Dense.call of <tensorflow.python.layers.core.Dense object at 0x7fed6f0bf2b0>> could not be transformed and will be executed as-is. Please report this to the AutgoGraph team. When filing the bug, set the verbosity to 10 (on Linux, `export AUTOGRAPH_VERBOSITY=10`) and attach the full output. Cause: converting <bound method Dense.call of <tensorflow.python.layers.core.Dense object at 0x7fed6f0bf2b0>>: AssertionError: Bad argument number for Name: 3, expecting 4\n",
      "WARNING: Entity <bound method Dense.call of <tensorflow.python.layers.core.Dense object at 0x7fed6f0bf2b0>> could not be transformed and will be executed as-is. Please report this to the AutgoGraph team. When filing the bug, set the verbosity to 10 (on Linux, `export AUTOGRAPH_VERBOSITY=10`) and attach the full output. Cause: converting <bound method Dense.call of <tensorflow.python.layers.core.Dense object at 0x7fed6f0bf2b0>>: AssertionError: Bad argument number for Name: 3, expecting 4\n"
     ]
    },
    {
     "name": "stdout",
     "output_type": "stream",
     "text": [
      "WARNING:tensorflow:Entity <bound method Dense.call of <tensorflow.python.layers.core.Dense object at 0x7fed6f0bf2b0>> could not be transformed and will be executed as-is. Please report this to the AutgoGraph team. When filing the bug, set the verbosity to 10 (on Linux, `export AUTOGRAPH_VERBOSITY=10`) and attach the full output. Cause: converting <bound method Dense.call of <tensorflow.python.layers.core.Dense object at 0x7fed6f0bf2b0>>: AssertionError: Bad argument number for Name: 3, expecting 4\n",
      "WARNING: Entity <bound method Dense.call of <tensorflow.python.layers.core.Dense object at 0x7fed6f0bf2b0>> could not be transformed and will be executed as-is. Please report this to the AutgoGraph team. When filing the bug, set the verbosity to 10 (on Linux, `export AUTOGRAPH_VERBOSITY=10`) and attach the full output. Cause: converting <bound method Dense.call of <tensorflow.python.layers.core.Dense object at 0x7fed6f0bf2b0>>: AssertionError: Bad argument number for Name: 3, expecting 4\n",
      "WARNING:tensorflow:Entity <bound method Dense.call of <tensorflow.python.layers.core.Dense object at 0x7fed6f052fd0>> could not be transformed and will be executed as-is. Please report this to the AutgoGraph team. When filing the bug, set the verbosity to 10 (on Linux, `export AUTOGRAPH_VERBOSITY=10`) and attach the full output. Cause: converting <bound method Dense.call of <tensorflow.python.layers.core.Dense object at 0x7fed6f052fd0>>: AssertionError: Bad argument number for Name: 3, expecting 4\n",
      "WARNING: Entity <bound method Dense.call of <tensorflow.python.layers.core.Dense object at 0x7fed6f052fd0>> could not be transformed and will be executed as-is. Please report this to the AutgoGraph team. When filing the bug, set the verbosity to 10 (on Linux, `export AUTOGRAPH_VERBOSITY=10`) and attach the full output. Cause: converting <bound method Dense.call of <tensorflow.python.layers.core.Dense object at 0x7fed6f052fd0>>: AssertionError: Bad argument number for Name: 3, expecting 4\n",
      "WARNING:tensorflow:Entity <bound method Dense.call of <tensorflow.python.layers.core.Dense object at 0x7fed6f585dd8>> could not be transformed and will be executed as-is. Please report this to the AutgoGraph team. When filing the bug, set the verbosity to 10 (on Linux, `export AUTOGRAPH_VERBOSITY=10`) and attach the full output. Cause: converting <bound method Dense.call of <tensorflow.python.layers.core.Dense object at 0x7fed6f585dd8>>: AssertionError: Bad argument number for Name: 3, expecting 4\n",
      "WARNING: Entity <bound method Dense.call of <tensorflow.python.layers.core.Dense object at 0x7fed6f585dd8>> could not be transformed and will be executed as-is. Please report this to the AutgoGraph team. When filing the bug, set the verbosity to 10 (on Linux, `export AUTOGRAPH_VERBOSITY=10`) and attach the full output. Cause: converting <bound method Dense.call of <tensorflow.python.layers.core.Dense object at 0x7fed6f585dd8>>: AssertionError: Bad argument number for Name: 3, expecting 4\n",
      "WARNING:tensorflow:Entity <bound method Dense.call of <tensorflow.python.layers.core.Dense object at 0x7fed6f7c1668>> could not be transformed and will be executed as-is. Please report this to the AutgoGraph team. When filing the bug, set the verbosity to 10 (on Linux, `export AUTOGRAPH_VERBOSITY=10`) and attach the full output. Cause: converting <bound method Dense.call of <tensorflow.python.layers.core.Dense object at 0x7fed6f7c1668>>: AssertionError: Bad argument number for Name: 3, expecting 4\n",
      "WARNING: Entity <bound method Dense.call of <tensorflow.python.layers.core.Dense object at 0x7fed6f7c1668>> could not be transformed and will be executed as-is. Please report this to the AutgoGraph team. When filing the bug, set the verbosity to 10 (on Linux, `export AUTOGRAPH_VERBOSITY=10`) and attach the full output. Cause: converting <bound method Dense.call of <tensorflow.python.layers.core.Dense object at 0x7fed6f7c1668>>: AssertionError: Bad argument number for Name: 3, expecting 4\n",
      "WARNING:tensorflow:Entity <bound method Dense.call of <tensorflow.python.layers.core.Dense object at 0x7fed6ee04908>> could not be transformed and will be executed as-is. Please report this to the AutgoGraph team. When filing the bug, set the verbosity to 10 (on Linux, `export AUTOGRAPH_VERBOSITY=10`) and attach the full output. Cause: converting <bound method Dense.call of <tensorflow.python.layers.core.Dense object at 0x7fed6ee04908>>: AssertionError: Bad argument number for Name: 3, expecting 4\n",
      "WARNING: Entity <bound method Dense.call of <tensorflow.python.layers.core.Dense object at 0x7fed6ee04908>> could not be transformed and will be executed as-is. Please report this to the AutgoGraph team. When filing the bug, set the verbosity to 10 (on Linux, `export AUTOGRAPH_VERBOSITY=10`) and attach the full output. Cause: converting <bound method Dense.call of <tensorflow.python.layers.core.Dense object at 0x7fed6ee04908>>: AssertionError: Bad argument number for Name: 3, expecting 4\n",
      "WARNING:tensorflow:Entity <bound method Dense.call of <tensorflow.python.layers.core.Dense object at 0x7fed6ee04908>> could not be transformed and will be executed as-is. Please report this to the AutgoGraph team. When filing the bug, set the verbosity to 10 (on Linux, `export AUTOGRAPH_VERBOSITY=10`) and attach the full output. Cause: converting <bound method Dense.call of <tensorflow.python.layers.core.Dense object at 0x7fed6ee04908>>: AssertionError: Bad argument number for Name: 3, expecting 4\n",
      "WARNING: Entity <bound method Dense.call of <tensorflow.python.layers.core.Dense object at 0x7fed6ee04908>> could not be transformed and will be executed as-is. Please report this to the AutgoGraph team. When filing the bug, set the verbosity to 10 (on Linux, `export AUTOGRAPH_VERBOSITY=10`) and attach the full output. Cause: converting <bound method Dense.call of <tensorflow.python.layers.core.Dense object at 0x7fed6ee04908>>: AssertionError: Bad argument number for Name: 3, expecting 4\n",
      "WARNING:tensorflow:Entity <bound method Dense.call of <tensorflow.python.layers.core.Dense object at 0x7fed6ee4e6a0>> could not be transformed and will be executed as-is. Please report this to the AutgoGraph team. When filing the bug, set the verbosity to 10 (on Linux, `export AUTOGRAPH_VERBOSITY=10`) and attach the full output. Cause: converting <bound method Dense.call of <tensorflow.python.layers.core.Dense object at 0x7fed6ee4e6a0>>: AssertionError: Bad argument number for Name: 3, expecting 4\n",
      "WARNING: Entity <bound method Dense.call of <tensorflow.python.layers.core.Dense object at 0x7fed6ee4e6a0>> could not be transformed and will be executed as-is. Please report this to the AutgoGraph team. When filing the bug, set the verbosity to 10 (on Linux, `export AUTOGRAPH_VERBOSITY=10`) and attach the full output. Cause: converting <bound method Dense.call of <tensorflow.python.layers.core.Dense object at 0x7fed6ee4e6a0>>: AssertionError: Bad argument number for Name: 3, expecting 4\n",
      "WARNING:tensorflow:Entity <bound method Dense.call of <tensorflow.python.layers.core.Dense object at 0x7fed6eea52e8>> could not be transformed and will be executed as-is. Please report this to the AutgoGraph team. When filing the bug, set the verbosity to 10 (on Linux, `export AUTOGRAPH_VERBOSITY=10`) and attach the full output. Cause: converting <bound method Dense.call of <tensorflow.python.layers.core.Dense object at 0x7fed6eea52e8>>: AssertionError: Bad argument number for Name: 3, expecting 4\n",
      "WARNING: Entity <bound method Dense.call of <tensorflow.python.layers.core.Dense object at 0x7fed6eea52e8>> could not be transformed and will be executed as-is. Please report this to the AutgoGraph team. When filing the bug, set the verbosity to 10 (on Linux, `export AUTOGRAPH_VERBOSITY=10`) and attach the full output. Cause: converting <bound method Dense.call of <tensorflow.python.layers.core.Dense object at 0x7fed6eea52e8>>: AssertionError: Bad argument number for Name: 3, expecting 4\n",
      "WARNING:tensorflow:Entity <bound method Dense.call of <tensorflow.python.layers.core.Dense object at 0x7fed6ef195f8>> could not be transformed and will be executed as-is. Please report this to the AutgoGraph team. When filing the bug, set the verbosity to 10 (on Linux, `export AUTOGRAPH_VERBOSITY=10`) and attach the full output. Cause: converting <bound method Dense.call of <tensorflow.python.layers.core.Dense object at 0x7fed6ef195f8>>: AssertionError: Bad argument number for Name: 3, expecting 4\n"
     ]
    },
    {
     "name": "stdout",
     "output_type": "stream",
     "text": [
      "WARNING: Entity <bound method Dense.call of <tensorflow.python.layers.core.Dense object at 0x7fed6ef195f8>> could not be transformed and will be executed as-is. Please report this to the AutgoGraph team. When filing the bug, set the verbosity to 10 (on Linux, `export AUTOGRAPH_VERBOSITY=10`) and attach the full output. Cause: converting <bound method Dense.call of <tensorflow.python.layers.core.Dense object at 0x7fed6ef195f8>>: AssertionError: Bad argument number for Name: 3, expecting 4\n",
      "WARNING:tensorflow:Entity <bound method Dense.call of <tensorflow.python.layers.core.Dense object at 0x7fed6f585dd8>> could not be transformed and will be executed as-is. Please report this to the AutgoGraph team. When filing the bug, set the verbosity to 10 (on Linux, `export AUTOGRAPH_VERBOSITY=10`) and attach the full output. Cause: converting <bound method Dense.call of <tensorflow.python.layers.core.Dense object at 0x7fed6f585dd8>>: AssertionError: Bad argument number for Name: 3, expecting 4\n",
      "WARNING: Entity <bound method Dense.call of <tensorflow.python.layers.core.Dense object at 0x7fed6f585dd8>> could not be transformed and will be executed as-is. Please report this to the AutgoGraph team. When filing the bug, set the verbosity to 10 (on Linux, `export AUTOGRAPH_VERBOSITY=10`) and attach the full output. Cause: converting <bound method Dense.call of <tensorflow.python.layers.core.Dense object at 0x7fed6f585dd8>>: AssertionError: Bad argument number for Name: 3, expecting 4\n",
      "WARNING:tensorflow:Entity <bound method Dense.call of <tensorflow.python.layers.core.Dense object at 0x7fed6ebdd0b8>> could not be transformed and will be executed as-is. Please report this to the AutgoGraph team. When filing the bug, set the verbosity to 10 (on Linux, `export AUTOGRAPH_VERBOSITY=10`) and attach the full output. Cause: converting <bound method Dense.call of <tensorflow.python.layers.core.Dense object at 0x7fed6ebdd0b8>>: AssertionError: Bad argument number for Name: 3, expecting 4\n",
      "WARNING: Entity <bound method Dense.call of <tensorflow.python.layers.core.Dense object at 0x7fed6ebdd0b8>> could not be transformed and will be executed as-is. Please report this to the AutgoGraph team. When filing the bug, set the verbosity to 10 (on Linux, `export AUTOGRAPH_VERBOSITY=10`) and attach the full output. Cause: converting <bound method Dense.call of <tensorflow.python.layers.core.Dense object at 0x7fed6ebdd0b8>>: AssertionError: Bad argument number for Name: 3, expecting 4\n",
      "WARNING:tensorflow:Entity <bound method Dense.call of <tensorflow.python.layers.core.Dense object at 0x7fed6ec1c2e8>> could not be transformed and will be executed as-is. Please report this to the AutgoGraph team. When filing the bug, set the verbosity to 10 (on Linux, `export AUTOGRAPH_VERBOSITY=10`) and attach the full output. Cause: converting <bound method Dense.call of <tensorflow.python.layers.core.Dense object at 0x7fed6ec1c2e8>>: AssertionError: Bad argument number for Name: 3, expecting 4\n",
      "WARNING: Entity <bound method Dense.call of <tensorflow.python.layers.core.Dense object at 0x7fed6ec1c2e8>> could not be transformed and will be executed as-is. Please report this to the AutgoGraph team. When filing the bug, set the verbosity to 10 (on Linux, `export AUTOGRAPH_VERBOSITY=10`) and attach the full output. Cause: converting <bound method Dense.call of <tensorflow.python.layers.core.Dense object at 0x7fed6ec1c2e8>>: AssertionError: Bad argument number for Name: 3, expecting 4\n",
      "WARNING:tensorflow:Entity <bound method Dense.call of <tensorflow.python.layers.core.Dense object at 0x7fed6ec1c2e8>> could not be transformed and will be executed as-is. Please report this to the AutgoGraph team. When filing the bug, set the verbosity to 10 (on Linux, `export AUTOGRAPH_VERBOSITY=10`) and attach the full output. Cause: converting <bound method Dense.call of <tensorflow.python.layers.core.Dense object at 0x7fed6ec1c2e8>>: AssertionError: Bad argument number for Name: 3, expecting 4\n",
      "WARNING: Entity <bound method Dense.call of <tensorflow.python.layers.core.Dense object at 0x7fed6ec1c2e8>> could not be transformed and will be executed as-is. Please report this to the AutgoGraph team. When filing the bug, set the verbosity to 10 (on Linux, `export AUTOGRAPH_VERBOSITY=10`) and attach the full output. Cause: converting <bound method Dense.call of <tensorflow.python.layers.core.Dense object at 0x7fed6ec1c2e8>>: AssertionError: Bad argument number for Name: 3, expecting 4\n",
      "WARNING:tensorflow:Entity <bound method Dense.call of <tensorflow.python.layers.core.Dense object at 0x7fed6f1de940>> could not be transformed and will be executed as-is. Please report this to the AutgoGraph team. When filing the bug, set the verbosity to 10 (on Linux, `export AUTOGRAPH_VERBOSITY=10`) and attach the full output. Cause: converting <bound method Dense.call of <tensorflow.python.layers.core.Dense object at 0x7fed6f1de940>>: AssertionError: Bad argument number for Name: 3, expecting 4\n",
      "WARNING: Entity <bound method Dense.call of <tensorflow.python.layers.core.Dense object at 0x7fed6f1de940>> could not be transformed and will be executed as-is. Please report this to the AutgoGraph team. When filing the bug, set the verbosity to 10 (on Linux, `export AUTOGRAPH_VERBOSITY=10`) and attach the full output. Cause: converting <bound method Dense.call of <tensorflow.python.layers.core.Dense object at 0x7fed6f1de940>>: AssertionError: Bad argument number for Name: 3, expecting 4\n",
      "WARNING:tensorflow:Entity <bound method Dense.call of <tensorflow.python.layers.core.Dense object at 0x7fed6ef19208>> could not be transformed and will be executed as-is. Please report this to the AutgoGraph team. When filing the bug, set the verbosity to 10 (on Linux, `export AUTOGRAPH_VERBOSITY=10`) and attach the full output. Cause: converting <bound method Dense.call of <tensorflow.python.layers.core.Dense object at 0x7fed6ef19208>>: AssertionError: Bad argument number for Name: 3, expecting 4\n",
      "WARNING: Entity <bound method Dense.call of <tensorflow.python.layers.core.Dense object at 0x7fed6ef19208>> could not be transformed and will be executed as-is. Please report this to the AutgoGraph team. When filing the bug, set the verbosity to 10 (on Linux, `export AUTOGRAPH_VERBOSITY=10`) and attach the full output. Cause: converting <bound method Dense.call of <tensorflow.python.layers.core.Dense object at 0x7fed6ef19208>>: AssertionError: Bad argument number for Name: 3, expecting 4\n",
      "WARNING:tensorflow:Entity <bound method Dense.call of <tensorflow.python.layers.core.Dense object at 0x7fed6f66e898>> could not be transformed and will be executed as-is. Please report this to the AutgoGraph team. When filing the bug, set the verbosity to 10 (on Linux, `export AUTOGRAPH_VERBOSITY=10`) and attach the full output. Cause: converting <bound method Dense.call of <tensorflow.python.layers.core.Dense object at 0x7fed6f66e898>>: AssertionError: Bad argument number for Name: 3, expecting 4\n",
      "WARNING: Entity <bound method Dense.call of <tensorflow.python.layers.core.Dense object at 0x7fed6f66e898>> could not be transformed and will be executed as-is. Please report this to the AutgoGraph team. When filing the bug, set the verbosity to 10 (on Linux, `export AUTOGRAPH_VERBOSITY=10`) and attach the full output. Cause: converting <bound method Dense.call of <tensorflow.python.layers.core.Dense object at 0x7fed6f66e898>>: AssertionError: Bad argument number for Name: 3, expecting 4\n",
      "WARNING:tensorflow:Entity <bound method Dense.call of <tensorflow.python.layers.core.Dense object at 0x7fed6f5b4400>> could not be transformed and will be executed as-is. Please report this to the AutgoGraph team. When filing the bug, set the verbosity to 10 (on Linux, `export AUTOGRAPH_VERBOSITY=10`) and attach the full output. Cause: converting <bound method Dense.call of <tensorflow.python.layers.core.Dense object at 0x7fed6f5b4400>>: AssertionError: Bad argument number for Name: 3, expecting 4\n",
      "WARNING: Entity <bound method Dense.call of <tensorflow.python.layers.core.Dense object at 0x7fed6f5b4400>> could not be transformed and will be executed as-is. Please report this to the AutgoGraph team. When filing the bug, set the verbosity to 10 (on Linux, `export AUTOGRAPH_VERBOSITY=10`) and attach the full output. Cause: converting <bound method Dense.call of <tensorflow.python.layers.core.Dense object at 0x7fed6f5b4400>>: AssertionError: Bad argument number for Name: 3, expecting 4\n"
     ]
    },
    {
     "name": "stdout",
     "output_type": "stream",
     "text": [
      "WARNING:tensorflow:Entity <bound method Dense.call of <tensorflow.python.layers.core.Dense object at 0x7fed6f5b4400>> could not be transformed and will be executed as-is. Please report this to the AutgoGraph team. When filing the bug, set the verbosity to 10 (on Linux, `export AUTOGRAPH_VERBOSITY=10`) and attach the full output. Cause: converting <bound method Dense.call of <tensorflow.python.layers.core.Dense object at 0x7fed6f5b4400>>: AssertionError: Bad argument number for Name: 3, expecting 4\n",
      "WARNING: Entity <bound method Dense.call of <tensorflow.python.layers.core.Dense object at 0x7fed6f5b4400>> could not be transformed and will be executed as-is. Please report this to the AutgoGraph team. When filing the bug, set the verbosity to 10 (on Linux, `export AUTOGRAPH_VERBOSITY=10`) and attach the full output. Cause: converting <bound method Dense.call of <tensorflow.python.layers.core.Dense object at 0x7fed6f5b4400>>: AssertionError: Bad argument number for Name: 3, expecting 4\n",
      "WARNING:tensorflow:Entity <bound method Dense.call of <tensorflow.python.layers.core.Dense object at 0x7fed6f5b4400>> could not be transformed and will be executed as-is. Please report this to the AutgoGraph team. When filing the bug, set the verbosity to 10 (on Linux, `export AUTOGRAPH_VERBOSITY=10`) and attach the full output. Cause: converting <bound method Dense.call of <tensorflow.python.layers.core.Dense object at 0x7fed6f5b4400>>: AssertionError: Bad argument number for Name: 3, expecting 4\n",
      "WARNING: Entity <bound method Dense.call of <tensorflow.python.layers.core.Dense object at 0x7fed6f5b4400>> could not be transformed and will be executed as-is. Please report this to the AutgoGraph team. When filing the bug, set the verbosity to 10 (on Linux, `export AUTOGRAPH_VERBOSITY=10`) and attach the full output. Cause: converting <bound method Dense.call of <tensorflow.python.layers.core.Dense object at 0x7fed6f5b4400>>: AssertionError: Bad argument number for Name: 3, expecting 4\n",
      "WARNING:tensorflow:Entity <bound method Dense.call of <tensorflow.python.layers.core.Dense object at 0x7fed6ea46cf8>> could not be transformed and will be executed as-is. Please report this to the AutgoGraph team. When filing the bug, set the verbosity to 10 (on Linux, `export AUTOGRAPH_VERBOSITY=10`) and attach the full output. Cause: converting <bound method Dense.call of <tensorflow.python.layers.core.Dense object at 0x7fed6ea46cf8>>: AssertionError: Bad argument number for Name: 3, expecting 4\n",
      "WARNING: Entity <bound method Dense.call of <tensorflow.python.layers.core.Dense object at 0x7fed6ea46cf8>> could not be transformed and will be executed as-is. Please report this to the AutgoGraph team. When filing the bug, set the verbosity to 10 (on Linux, `export AUTOGRAPH_VERBOSITY=10`) and attach the full output. Cause: converting <bound method Dense.call of <tensorflow.python.layers.core.Dense object at 0x7fed6ea46cf8>>: AssertionError: Bad argument number for Name: 3, expecting 4\n",
      "WARNING:tensorflow:Entity <bound method Dense.call of <tensorflow.python.layers.core.Dense object at 0x7fed6f51c2b0>> could not be transformed and will be executed as-is. Please report this to the AutgoGraph team. When filing the bug, set the verbosity to 10 (on Linux, `export AUTOGRAPH_VERBOSITY=10`) and attach the full output. Cause: converting <bound method Dense.call of <tensorflow.python.layers.core.Dense object at 0x7fed6f51c2b0>>: AssertionError: Bad argument number for Name: 3, expecting 4\n",
      "WARNING: Entity <bound method Dense.call of <tensorflow.python.layers.core.Dense object at 0x7fed6f51c2b0>> could not be transformed and will be executed as-is. Please report this to the AutgoGraph team. When filing the bug, set the verbosity to 10 (on Linux, `export AUTOGRAPH_VERBOSITY=10`) and attach the full output. Cause: converting <bound method Dense.call of <tensorflow.python.layers.core.Dense object at 0x7fed6f51c2b0>>: AssertionError: Bad argument number for Name: 3, expecting 4\n",
      "WARNING:tensorflow:Entity <bound method Dense.call of <tensorflow.python.layers.core.Dense object at 0x7fed6ef19208>> could not be transformed and will be executed as-is. Please report this to the AutgoGraph team. When filing the bug, set the verbosity to 10 (on Linux, `export AUTOGRAPH_VERBOSITY=10`) and attach the full output. Cause: converting <bound method Dense.call of <tensorflow.python.layers.core.Dense object at 0x7fed6ef19208>>: AssertionError: Bad argument number for Name: 3, expecting 4\n",
      "WARNING: Entity <bound method Dense.call of <tensorflow.python.layers.core.Dense object at 0x7fed6ef19208>> could not be transformed and will be executed as-is. Please report this to the AutgoGraph team. When filing the bug, set the verbosity to 10 (on Linux, `export AUTOGRAPH_VERBOSITY=10`) and attach the full output. Cause: converting <bound method Dense.call of <tensorflow.python.layers.core.Dense object at 0x7fed6ef19208>>: AssertionError: Bad argument number for Name: 3, expecting 4\n",
      "WARNING:tensorflow:Entity <bound method Dense.call of <tensorflow.python.layers.core.Dense object at 0x7fed6e7663c8>> could not be transformed and will be executed as-is. Please report this to the AutgoGraph team. When filing the bug, set the verbosity to 10 (on Linux, `export AUTOGRAPH_VERBOSITY=10`) and attach the full output. Cause: converting <bound method Dense.call of <tensorflow.python.layers.core.Dense object at 0x7fed6e7663c8>>: AssertionError: Bad argument number for Name: 3, expecting 4\n",
      "WARNING: Entity <bound method Dense.call of <tensorflow.python.layers.core.Dense object at 0x7fed6e7663c8>> could not be transformed and will be executed as-is. Please report this to the AutgoGraph team. When filing the bug, set the verbosity to 10 (on Linux, `export AUTOGRAPH_VERBOSITY=10`) and attach the full output. Cause: converting <bound method Dense.call of <tensorflow.python.layers.core.Dense object at 0x7fed6e7663c8>>: AssertionError: Bad argument number for Name: 3, expecting 4\n",
      "WARNING:tensorflow:Entity <bound method Dense.call of <tensorflow.python.layers.core.Dense object at 0x7fed6e7088d0>> could not be transformed and will be executed as-is. Please report this to the AutgoGraph team. When filing the bug, set the verbosity to 10 (on Linux, `export AUTOGRAPH_VERBOSITY=10`) and attach the full output. Cause: converting <bound method Dense.call of <tensorflow.python.layers.core.Dense object at 0x7fed6e7088d0>>: AssertionError: Bad argument number for Name: 3, expecting 4\n",
      "WARNING: Entity <bound method Dense.call of <tensorflow.python.layers.core.Dense object at 0x7fed6e7088d0>> could not be transformed and will be executed as-is. Please report this to the AutgoGraph team. When filing the bug, set the verbosity to 10 (on Linux, `export AUTOGRAPH_VERBOSITY=10`) and attach the full output. Cause: converting <bound method Dense.call of <tensorflow.python.layers.core.Dense object at 0x7fed6e7088d0>>: AssertionError: Bad argument number for Name: 3, expecting 4\n",
      "WARNING:tensorflow:Entity <bound method Dense.call of <tensorflow.python.layers.core.Dense object at 0x7fed6e7088d0>> could not be transformed and will be executed as-is. Please report this to the AutgoGraph team. When filing the bug, set the verbosity to 10 (on Linux, `export AUTOGRAPH_VERBOSITY=10`) and attach the full output. Cause: converting <bound method Dense.call of <tensorflow.python.layers.core.Dense object at 0x7fed6e7088d0>>: AssertionError: Bad argument number for Name: 3, expecting 4\n",
      "WARNING: Entity <bound method Dense.call of <tensorflow.python.layers.core.Dense object at 0x7fed6e7088d0>> could not be transformed and will be executed as-is. Please report this to the AutgoGraph team. When filing the bug, set the verbosity to 10 (on Linux, `export AUTOGRAPH_VERBOSITY=10`) and attach the full output. Cause: converting <bound method Dense.call of <tensorflow.python.layers.core.Dense object at 0x7fed6e7088d0>>: AssertionError: Bad argument number for Name: 3, expecting 4\n",
      "WARNING:tensorflow:Entity <bound method Dense.call of <tensorflow.python.layers.core.Dense object at 0x7fed6e744c88>> could not be transformed and will be executed as-is. Please report this to the AutgoGraph team. When filing the bug, set the verbosity to 10 (on Linux, `export AUTOGRAPH_VERBOSITY=10`) and attach the full output. Cause: converting <bound method Dense.call of <tensorflow.python.layers.core.Dense object at 0x7fed6e744c88>>: AssertionError: Bad argument number for Name: 3, expecting 4\n"
     ]
    },
    {
     "name": "stdout",
     "output_type": "stream",
     "text": [
      "WARNING: Entity <bound method Dense.call of <tensorflow.python.layers.core.Dense object at 0x7fed6e744c88>> could not be transformed and will be executed as-is. Please report this to the AutgoGraph team. When filing the bug, set the verbosity to 10 (on Linux, `export AUTOGRAPH_VERBOSITY=10`) and attach the full output. Cause: converting <bound method Dense.call of <tensorflow.python.layers.core.Dense object at 0x7fed6e744c88>>: AssertionError: Bad argument number for Name: 3, expecting 4\n",
      "WARNING:tensorflow:Entity <bound method Dense.call of <tensorflow.python.layers.core.Dense object at 0x7fed6e8de4a8>> could not be transformed and will be executed as-is. Please report this to the AutgoGraph team. When filing the bug, set the verbosity to 10 (on Linux, `export AUTOGRAPH_VERBOSITY=10`) and attach the full output. Cause: converting <bound method Dense.call of <tensorflow.python.layers.core.Dense object at 0x7fed6e8de4a8>>: AssertionError: Bad argument number for Name: 3, expecting 4\n",
      "WARNING: Entity <bound method Dense.call of <tensorflow.python.layers.core.Dense object at 0x7fed6e8de4a8>> could not be transformed and will be executed as-is. Please report this to the AutgoGraph team. When filing the bug, set the verbosity to 10 (on Linux, `export AUTOGRAPH_VERBOSITY=10`) and attach the full output. Cause: converting <bound method Dense.call of <tensorflow.python.layers.core.Dense object at 0x7fed6e8de4a8>>: AssertionError: Bad argument number for Name: 3, expecting 4\n",
      "WARNING:tensorflow:Entity <bound method Dense.call of <tensorflow.python.layers.core.Dense object at 0x7fed6f51c2b0>> could not be transformed and will be executed as-is. Please report this to the AutgoGraph team. When filing the bug, set the verbosity to 10 (on Linux, `export AUTOGRAPH_VERBOSITY=10`) and attach the full output. Cause: converting <bound method Dense.call of <tensorflow.python.layers.core.Dense object at 0x7fed6f51c2b0>>: AssertionError: Bad argument number for Name: 3, expecting 4\n",
      "WARNING: Entity <bound method Dense.call of <tensorflow.python.layers.core.Dense object at 0x7fed6f51c2b0>> could not be transformed and will be executed as-is. Please report this to the AutgoGraph team. When filing the bug, set the verbosity to 10 (on Linux, `export AUTOGRAPH_VERBOSITY=10`) and attach the full output. Cause: converting <bound method Dense.call of <tensorflow.python.layers.core.Dense object at 0x7fed6f51c2b0>>: AssertionError: Bad argument number for Name: 3, expecting 4\n",
      "WARNING:tensorflow:Entity <bound method Dense.call of <tensorflow.python.layers.core.Dense object at 0x7fed6e49a2b0>> could not be transformed and will be executed as-is. Please report this to the AutgoGraph team. When filing the bug, set the verbosity to 10 (on Linux, `export AUTOGRAPH_VERBOSITY=10`) and attach the full output. Cause: converting <bound method Dense.call of <tensorflow.python.layers.core.Dense object at 0x7fed6e49a2b0>>: AssertionError: Bad argument number for Name: 3, expecting 4\n",
      "WARNING: Entity <bound method Dense.call of <tensorflow.python.layers.core.Dense object at 0x7fed6e49a2b0>> could not be transformed and will be executed as-is. Please report this to the AutgoGraph team. When filing the bug, set the verbosity to 10 (on Linux, `export AUTOGRAPH_VERBOSITY=10`) and attach the full output. Cause: converting <bound method Dense.call of <tensorflow.python.layers.core.Dense object at 0x7fed6e49a2b0>>: AssertionError: Bad argument number for Name: 3, expecting 4\n",
      "WARNING:tensorflow:Entity <bound method Dense.call of <tensorflow.python.layers.core.Dense object at 0x7fed6e49a2b0>> could not be transformed and will be executed as-is. Please report this to the AutgoGraph team. When filing the bug, set the verbosity to 10 (on Linux, `export AUTOGRAPH_VERBOSITY=10`) and attach the full output. Cause: converting <bound method Dense.call of <tensorflow.python.layers.core.Dense object at 0x7fed6e49a2b0>>: AssertionError: Bad argument number for Name: 3, expecting 4\n",
      "WARNING: Entity <bound method Dense.call of <tensorflow.python.layers.core.Dense object at 0x7fed6e49a2b0>> could not be transformed and will be executed as-is. Please report this to the AutgoGraph team. When filing the bug, set the verbosity to 10 (on Linux, `export AUTOGRAPH_VERBOSITY=10`) and attach the full output. Cause: converting <bound method Dense.call of <tensorflow.python.layers.core.Dense object at 0x7fed6e49a2b0>>: AssertionError: Bad argument number for Name: 3, expecting 4\n",
      "WARNING:tensorflow:Entity <bound method Dense.call of <tensorflow.python.layers.core.Dense object at 0x7fed6e49a2b0>> could not be transformed and will be executed as-is. Please report this to the AutgoGraph team. When filing the bug, set the verbosity to 10 (on Linux, `export AUTOGRAPH_VERBOSITY=10`) and attach the full output. Cause: converting <bound method Dense.call of <tensorflow.python.layers.core.Dense object at 0x7fed6e49a2b0>>: AssertionError: Bad argument number for Name: 3, expecting 4\n",
      "WARNING: Entity <bound method Dense.call of <tensorflow.python.layers.core.Dense object at 0x7fed6e49a2b0>> could not be transformed and will be executed as-is. Please report this to the AutgoGraph team. When filing the bug, set the verbosity to 10 (on Linux, `export AUTOGRAPH_VERBOSITY=10`) and attach the full output. Cause: converting <bound method Dense.call of <tensorflow.python.layers.core.Dense object at 0x7fed6e49a2b0>>: AssertionError: Bad argument number for Name: 3, expecting 4\n",
      "WARNING:tensorflow:Entity <bound method Dense.call of <tensorflow.python.layers.core.Dense object at 0x7fed6e6cc588>> could not be transformed and will be executed as-is. Please report this to the AutgoGraph team. When filing the bug, set the verbosity to 10 (on Linux, `export AUTOGRAPH_VERBOSITY=10`) and attach the full output. Cause: converting <bound method Dense.call of <tensorflow.python.layers.core.Dense object at 0x7fed6e6cc588>>: AssertionError: Bad argument number for Name: 3, expecting 4\n",
      "WARNING: Entity <bound method Dense.call of <tensorflow.python.layers.core.Dense object at 0x7fed6e6cc588>> could not be transformed and will be executed as-is. Please report this to the AutgoGraph team. When filing the bug, set the verbosity to 10 (on Linux, `export AUTOGRAPH_VERBOSITY=10`) and attach the full output. Cause: converting <bound method Dense.call of <tensorflow.python.layers.core.Dense object at 0x7fed6e6cc588>>: AssertionError: Bad argument number for Name: 3, expecting 4\n",
      "WARNING:tensorflow:Entity <bound method Dense.call of <tensorflow.python.layers.core.Dense object at 0x7fed6e528a58>> could not be transformed and will be executed as-is. Please report this to the AutgoGraph team. When filing the bug, set the verbosity to 10 (on Linux, `export AUTOGRAPH_VERBOSITY=10`) and attach the full output. Cause: converting <bound method Dense.call of <tensorflow.python.layers.core.Dense object at 0x7fed6e528a58>>: AssertionError: Bad argument number for Name: 3, expecting 4\n",
      "WARNING: Entity <bound method Dense.call of <tensorflow.python.layers.core.Dense object at 0x7fed6e528a58>> could not be transformed and will be executed as-is. Please report this to the AutgoGraph team. When filing the bug, set the verbosity to 10 (on Linux, `export AUTOGRAPH_VERBOSITY=10`) and attach the full output. Cause: converting <bound method Dense.call of <tensorflow.python.layers.core.Dense object at 0x7fed6e528a58>>: AssertionError: Bad argument number for Name: 3, expecting 4\n",
      "WARNING:tensorflow:Entity <bound method Dense.call of <tensorflow.python.layers.core.Dense object at 0x7fed6e82e898>> could not be transformed and will be executed as-is. Please report this to the AutgoGraph team. When filing the bug, set the verbosity to 10 (on Linux, `export AUTOGRAPH_VERBOSITY=10`) and attach the full output. Cause: converting <bound method Dense.call of <tensorflow.python.layers.core.Dense object at 0x7fed6e82e898>>: AssertionError: Bad argument number for Name: 3, expecting 4\n",
      "WARNING: Entity <bound method Dense.call of <tensorflow.python.layers.core.Dense object at 0x7fed6e82e898>> could not be transformed and will be executed as-is. Please report this to the AutgoGraph team. When filing the bug, set the verbosity to 10 (on Linux, `export AUTOGRAPH_VERBOSITY=10`) and attach the full output. Cause: converting <bound method Dense.call of <tensorflow.python.layers.core.Dense object at 0x7fed6e82e898>>: AssertionError: Bad argument number for Name: 3, expecting 4\n"
     ]
    },
    {
     "name": "stdout",
     "output_type": "stream",
     "text": [
      "WARNING:tensorflow:Entity <bound method Dense.call of <tensorflow.python.layers.core.Dense object at 0x7fed6e20fd30>> could not be transformed and will be executed as-is. Please report this to the AutgoGraph team. When filing the bug, set the verbosity to 10 (on Linux, `export AUTOGRAPH_VERBOSITY=10`) and attach the full output. Cause: converting <bound method Dense.call of <tensorflow.python.layers.core.Dense object at 0x7fed6e20fd30>>: AssertionError: Bad argument number for Name: 3, expecting 4\n",
      "WARNING: Entity <bound method Dense.call of <tensorflow.python.layers.core.Dense object at 0x7fed6e20fd30>> could not be transformed and will be executed as-is. Please report this to the AutgoGraph team. When filing the bug, set the verbosity to 10 (on Linux, `export AUTOGRAPH_VERBOSITY=10`) and attach the full output. Cause: converting <bound method Dense.call of <tensorflow.python.layers.core.Dense object at 0x7fed6e20fd30>>: AssertionError: Bad argument number for Name: 3, expecting 4\n",
      "WARNING:tensorflow:Entity <bound method Dense.call of <tensorflow.python.layers.core.Dense object at 0x7fed6e5c33c8>> could not be transformed and will be executed as-is. Please report this to the AutgoGraph team. When filing the bug, set the verbosity to 10 (on Linux, `export AUTOGRAPH_VERBOSITY=10`) and attach the full output. Cause: converting <bound method Dense.call of <tensorflow.python.layers.core.Dense object at 0x7fed6e5c33c8>>: AssertionError: Bad argument number for Name: 3, expecting 4\n",
      "WARNING: Entity <bound method Dense.call of <tensorflow.python.layers.core.Dense object at 0x7fed6e5c33c8>> could not be transformed and will be executed as-is. Please report this to the AutgoGraph team. When filing the bug, set the verbosity to 10 (on Linux, `export AUTOGRAPH_VERBOSITY=10`) and attach the full output. Cause: converting <bound method Dense.call of <tensorflow.python.layers.core.Dense object at 0x7fed6e5c33c8>>: AssertionError: Bad argument number for Name: 3, expecting 4\n",
      "WARNING:tensorflow:Entity <bound method Dense.call of <tensorflow.python.layers.core.Dense object at 0x7fed6e5c33c8>> could not be transformed and will be executed as-is. Please report this to the AutgoGraph team. When filing the bug, set the verbosity to 10 (on Linux, `export AUTOGRAPH_VERBOSITY=10`) and attach the full output. Cause: converting <bound method Dense.call of <tensorflow.python.layers.core.Dense object at 0x7fed6e5c33c8>>: AssertionError: Bad argument number for Name: 3, expecting 4\n",
      "WARNING: Entity <bound method Dense.call of <tensorflow.python.layers.core.Dense object at 0x7fed6e5c33c8>> could not be transformed and will be executed as-is. Please report this to the AutgoGraph team. When filing the bug, set the verbosity to 10 (on Linux, `export AUTOGRAPH_VERBOSITY=10`) and attach the full output. Cause: converting <bound method Dense.call of <tensorflow.python.layers.core.Dense object at 0x7fed6e5c33c8>>: AssertionError: Bad argument number for Name: 3, expecting 4\n",
      "WARNING:tensorflow:Entity <bound method Dense.call of <tensorflow.python.layers.core.Dense object at 0x7fed6e591470>> could not be transformed and will be executed as-is. Please report this to the AutgoGraph team. When filing the bug, set the verbosity to 10 (on Linux, `export AUTOGRAPH_VERBOSITY=10`) and attach the full output. Cause: converting <bound method Dense.call of <tensorflow.python.layers.core.Dense object at 0x7fed6e591470>>: AssertionError: Bad argument number for Name: 3, expecting 4\n",
      "WARNING: Entity <bound method Dense.call of <tensorflow.python.layers.core.Dense object at 0x7fed6e591470>> could not be transformed and will be executed as-is. Please report this to the AutgoGraph team. When filing the bug, set the verbosity to 10 (on Linux, `export AUTOGRAPH_VERBOSITY=10`) and attach the full output. Cause: converting <bound method Dense.call of <tensorflow.python.layers.core.Dense object at 0x7fed6e591470>>: AssertionError: Bad argument number for Name: 3, expecting 4\n",
      "WARNING:tensorflow:Entity <bound method Dense.call of <tensorflow.python.layers.core.Dense object at 0x7fed6e2abc88>> could not be transformed and will be executed as-is. Please report this to the AutgoGraph team. When filing the bug, set the verbosity to 10 (on Linux, `export AUTOGRAPH_VERBOSITY=10`) and attach the full output. Cause: converting <bound method Dense.call of <tensorflow.python.layers.core.Dense object at 0x7fed6e2abc88>>: AssertionError: Bad argument number for Name: 3, expecting 4\n",
      "WARNING: Entity <bound method Dense.call of <tensorflow.python.layers.core.Dense object at 0x7fed6e2abc88>> could not be transformed and will be executed as-is. Please report this to the AutgoGraph team. When filing the bug, set the verbosity to 10 (on Linux, `export AUTOGRAPH_VERBOSITY=10`) and attach the full output. Cause: converting <bound method Dense.call of <tensorflow.python.layers.core.Dense object at 0x7fed6e2abc88>>: AssertionError: Bad argument number for Name: 3, expecting 4\n",
      "WARNING:tensorflow:Entity <bound method Dense.call of <tensorflow.python.layers.core.Dense object at 0x7fed6e528a58>> could not be transformed and will be executed as-is. Please report this to the AutgoGraph team. When filing the bug, set the verbosity to 10 (on Linux, `export AUTOGRAPH_VERBOSITY=10`) and attach the full output. Cause: converting <bound method Dense.call of <tensorflow.python.layers.core.Dense object at 0x7fed6e528a58>>: AssertionError: Bad argument number for Name: 3, expecting 4\n",
      "WARNING: Entity <bound method Dense.call of <tensorflow.python.layers.core.Dense object at 0x7fed6e528a58>> could not be transformed and will be executed as-is. Please report this to the AutgoGraph team. When filing the bug, set the verbosity to 10 (on Linux, `export AUTOGRAPH_VERBOSITY=10`) and attach the full output. Cause: converting <bound method Dense.call of <tensorflow.python.layers.core.Dense object at 0x7fed6e528a58>>: AssertionError: Bad argument number for Name: 3, expecting 4\n",
      "WARNING:tensorflow:Entity <bound method Dense.call of <tensorflow.python.layers.core.Dense object at 0x7fed6e528a58>> could not be transformed and will be executed as-is. Please report this to the AutgoGraph team. When filing the bug, set the verbosity to 10 (on Linux, `export AUTOGRAPH_VERBOSITY=10`) and attach the full output. Cause: converting <bound method Dense.call of <tensorflow.python.layers.core.Dense object at 0x7fed6e528a58>>: AssertionError: Bad argument number for Name: 3, expecting 4\n",
      "WARNING: Entity <bound method Dense.call of <tensorflow.python.layers.core.Dense object at 0x7fed6e528a58>> could not be transformed and will be executed as-is. Please report this to the AutgoGraph team. When filing the bug, set the verbosity to 10 (on Linux, `export AUTOGRAPH_VERBOSITY=10`) and attach the full output. Cause: converting <bound method Dense.call of <tensorflow.python.layers.core.Dense object at 0x7fed6e528a58>>: AssertionError: Bad argument number for Name: 3, expecting 4\n",
      "WARNING:tensorflow:From /home/lyubanenko/.virtualenvs/deeppavlov/lib/python3.7/site-packages/deeppavlov/core/models/tf_model.py:234: The name tf.train.AdadeltaOptimizer is deprecated. Please use tf.compat.v1.train.AdadeltaOptimizer instead.\n",
      "\n",
      "WARNING:tensorflow:From /home/lyubanenko/.virtualenvs/deeppavlov/lib/python3.7/site-packages/deeppavlov/core/models/tf_model.py:50: checkpoint_exists (from tensorflow.python.training.checkpoint_management) is deprecated and will be removed in a future version.\n",
      "Instructions for updating:\n",
      "Use standard file APIs to check for files with this prefix.\n"
     ]
    }
   ],
   "source": [
    "bert_model_config = {\n",
    "    'bert_config_file': os.path.join(MODEL_DIR, 'bert_config.json'),\n",
    "    'n_classes': len(train_data.target.unique()),\n",
    "    'keep_prob': 0.9,\n",
    "    'save_path': OUTPUT_DIR,\n",
    "    \n",
    "    'learning_rate': 2e-6,\n",
    "    'return_probas': True\n",
    "}\n",
    "bert_model = BertClassifierModel(**bert_model_config)"
   ]
  },
  {
   "cell_type": "code",
   "execution_count": null,
   "metadata": {},
   "outputs": [],
   "source": []
  },
  {
   "cell_type": "code",
   "execution_count": 15,
   "metadata": {},
   "outputs": [],
   "source": [
    "def apply_model_batch(iterable, size=128):\n",
    "    it = iter(iterable)\n",
    "    with tqdm() as pbar:\n",
    "        while True:\n",
    "            batch = tuple(itertools.islice(it, size))\n",
    "            if not batch:\n",
    "                return\n",
    "            yield from bert_model(batch)\n",
    "            pbar.update(len(batch))"
   ]
  },
  {
   "cell_type": "code",
   "execution_count": 18,
   "metadata": {},
   "outputs": [
    {
     "data": {
      "application/vnd.jupyter.widget-view+json": {
       "model_id": "5afc15f148d644b789ad46becf8aa155",
       "version_major": 2,
       "version_minor": 0
      },
      "text/plain": [
       "HBox(children=(IntProgress(value=1, bar_style='info', max=1), HTML(value='')))"
      ]
     },
     "metadata": {},
     "output_type": "display_data"
    },
    {
     "name": "stdout",
     "output_type": "stream",
     "text": [
      "\n",
      "[(0.53992677, 0), (0.53243244, 1), (0.52184415, 0), (0.54752475, 0), (0.5265158, 1), (0.53639954, 0), (0.5351596, 0), (0.53699946, 1), (0.53076404, 0), (0.5207457, 1), (0.5218589, 1), (0.5150393, 1), (0.5272572, 1), (0.526088, 1), (0.5176361, 1), (0.5215692, 1), (0.5196207, 1), (0.5212312, 0), (0.5179006, 0), (0.53152084, 0), (0.5265077, 0), (0.5265114, 1), (0.53802377, 1), (0.52786833, 0), (0.525029, 1), (0.53945476, 1), (0.51790357, 0), (0.51310676, 0), (0.5200862, 0), (0.5103293, 1), (0.5351488, 1), (0.52843297, 1), (0.5247577, 0), (0.5271485, 1), (0.50772977, 1), (0.53914714, 0), (0.5321631, 1), (0.54132605, 1), (0.5151163, 0), (0.54040956, 0), (0.5167253, 0), (0.5142531, 0), (0.516151, 0), (0.5321675, 0), (0.53853184, 1), (0.5113825, 0), (0.55579036, 0), (0.5257399, 1), (0.5421491, 0), (0.51477593, 1), (0.5346692, 0), (0.5398905, 1), (0.527149, 0), (0.53053755, 1), (0.5241328, 0), (0.522869, 1), (0.53534365, 0), (0.5158377, 1), (0.516496, 1), (0.5269769, 1), (0.53554815, 1), (0.51789784, 0), (0.5153082, 0), (0.5144071, 1), (0.53957295, 0), (0.5344401, 0), (0.5372958, 0), (0.50683796, 0), (0.5159335, 1), (0.5311083, 1), (0.5156696, 0), (0.5228122, 1), (0.52120256, 0), (0.52090365, 0), (0.5285322, 1), (0.5232743, 0), (0.5158771, 1), (0.5299341, 1), (0.53301626, 0), (0.5238942, 0), (0.51148677, 0), (0.5451903, 1), (0.5174967, 1), (0.53323746, 0), (0.52476645, 0), (0.514814, 0), (0.52495533, 0), (0.5044333, 0), (0.52454066, 0), (0.5297857, 1), (0.51195794, 0), (0.5263818, 0), (0.5309351, 0), (0.5183224, 1), (0.5087219, 1), (0.5387867, 1), (0.5262942, 0), (0.52481574, 0), (0.53671026, 1), (0.5055989, 1), (0.5217089, 1), (0.5401405, 1), (0.52204883, 0), (0.51495296, 0), (0.52387935, 0), (0.5331864, 1), (0.51777077, 0), (0.53450567, 0), (0.53737855, 0), (0.53586745, 0), (0.52529424, 0), (0.5216506, 0), (0.5316378, 1), (0.50717646, 0), (0.52924263, 0), (0.5262911, 0), (0.5287498, 0), (0.53330743, 0), (0.51938426, 0), (0.53899896, 0), (0.52766603, 0), (0.5275144, 0), (0.526164, 0), (0.52404594, 1), (0.5192428, 0), (0.5154444, 0), (0.52250177, 0), (0.5252279, 1), (0.5237904, 1), (0.52902895, 1), (0.5238248, 1), (0.52955186, 0), (0.52240247, 1), (0.5296304, 1), (0.52262825, 1), (0.51705, 0), (0.5170814, 1), (0.5246258, 0), (0.53469324, 1), (0.5346337, 1), (0.5196424, 0), (0.5220533, 0), (0.5284027, 1), (0.53607064, 0), (0.52413666, 1), (0.5475779, 0), (0.519187, 1), (0.5150225, 1), (0.51605904, 0), (0.5121629, 1), (0.5264235, 1), (0.53393173, 1), (0.50664735, 1), (0.5314864, 0), (0.5308104, 0), (0.52606654, 0), (0.5275176, 0), (0.5344023, 1), (0.5347258, 0), (0.5172337, 0), (0.5246245, 0), (0.5200393, 0), (0.52054423, 1), (0.52102673, 0), (0.5083303, 0), (0.53209966, 1), (0.5330774, 0), (0.520105, 1), (0.5265739, 0), (0.52485883, 1), (0.5344017, 0), (0.5472185, 0), (0.51150304, 0), (0.5183182, 0), (0.51568717, 0), (0.52953833, 0), (0.5023521, 1), (0.520557, 0), (0.5299964, 1), (0.51964897, 1), (0.52678335, 0), (0.5324177, 0), (0.5210181, 0), (0.52895904, 1), (0.5273042, 0), (0.52400947, 1), (0.540415, 0), (0.5192172, 0), (0.5228911, 1), (0.522975, 0), (0.51383096, 0), (0.5091911, 0), (0.5339054, 0), (0.5104038, 1), (0.52099025, 1), (0.5180661, 0), (0.5475175, 0), (0.5294714, 0), (0.5436284, 0), (0.52052253, 0), (0.5256127, 0), (0.50764865, 0), (0.5412576, 1), (0.5098338, 0), (0.5260386, 0), (0.5211425, 0), (0.5262233, 0), (0.537534, 0), (0.5227535, 0), (0.53522605, 0), (0.5317821, 0), (0.5311525, 1), (0.5256291, 0), (0.52729684, 0), (0.5168647, 1), (0.53719693, 0), (0.5335614, 1), (0.5260745, 1), (0.55069715, 1), (0.5341235, 0), (0.54634833, 0), (0.5418263, 1), (0.5382364, 0), (0.51005846, 0), (0.52079695, 0), (0.5183199, 0), (0.52136993, 0), (0.55261236, 0), (0.5307138, 0), (0.53486025, 1), (0.5227843, 0), (0.52535546, 0), (0.5346088, 0), (0.5426367, 1), (0.51257753, 0), (0.53896123, 1), (0.51938254, 0), (0.5250307, 1), (0.5362325, 0), (0.5278125, 1), (0.5182188, 1), (0.53763074, 0), (0.5100483, 1), (0.5179733, 0), (0.51468253, 0), (0.5304232, 1), (0.5147472, 1), (0.53080547, 1), (0.51919353, 1), (0.5282087, 0), (0.50975555, 0), (0.52567595, 0), (0.52835596, 1), (0.51599675, 0), (0.5343808, 0), (0.5277907, 0)]\n",
      "AUC 0.5093582887700534\n"
     ]
    }
   ],
   "source": [
    "y_prob = list(apply_model_batch(test_data_, 96))\n",
    "y_score = list(map(lambda x: x[1], y_prob))\n",
    "\n",
    "print(list(zip(y_score, test_true_)))\n",
    "print('AUC', metrics.roc_auc_score(test_true_, y_score))"
   ]
  },
  {
   "cell_type": "code",
   "execution_count": null,
   "metadata": {},
   "outputs": [],
   "source": []
  },
  {
   "cell_type": "code",
   "execution_count": 19,
   "metadata": {},
   "outputs": [],
   "source": [
    "def train_model_batch(iterable, size=128):\n",
    "    it = iter(iterable)\n",
    "    with tqdm() as pbar:\n",
    "        while True:\n",
    "            batch = tuple(itertools.islice(it, size))\n",
    "            if not batch:\n",
    "                return\n",
    "            (train_data_, train_true_) = zip(*batch)\n",
    "            step = bert_model.train_on_batch(train_data_, train_true_)\n",
    "            pbar.write(f'{step}')\n",
    "            pbar.update(len(batch))"
   ]
  },
  {
   "cell_type": "code",
   "execution_count": 20,
   "metadata": {},
   "outputs": [
    {
     "data": {
      "application/vnd.jupyter.widget-view+json": {
       "model_id": "40e6cca3600540f3913c0099e3dd2d49",
       "version_major": 2,
       "version_minor": 0
      },
      "text/plain": [
       "HBox(children=(IntProgress(value=1, bar_style='info', max=1), HTML(value='')))"
      ]
     },
     "metadata": {},
     "output_type": "display_data"
    },
    {
     "name": "stdout",
     "output_type": "stream",
     "text": [
      "{'loss': 0.6968312, 'learning_rate': 2e-06}\n",
      "{'loss': 0.7128269, 'learning_rate': 2e-06}\n",
      "{'loss': 0.68937165, 'learning_rate': 2e-06}\n",
      "{'loss': 0.77659744, 'learning_rate': 2e-06}\n",
      "{'loss': 0.7715614, 'learning_rate': 2e-06}\n",
      "{'loss': 0.6766455, 'learning_rate': 2e-06}\n",
      "{'loss': 0.7095424, 'learning_rate': 2e-06}\n",
      "{'loss': 0.7067834, 'learning_rate': 2e-06}\n",
      "{'loss': 0.6861931, 'learning_rate': 2e-06}\n",
      "{'loss': 0.6705745, 'learning_rate': 2e-06}\n",
      "{'loss': 0.67282426, 'learning_rate': 2e-06}\n",
      "{'loss': 0.5410495, 'learning_rate': 2e-06}\n",
      "{'loss': 0.68599594, 'learning_rate': 2e-06}\n",
      "{'loss': 0.744066, 'learning_rate': 2e-06}\n",
      "{'loss': 0.75826824, 'learning_rate': 2e-06}\n",
      "{'loss': 0.7165104, 'learning_rate': 2e-06}\n",
      "{'loss': 0.62501156, 'learning_rate': 2e-06}\n",
      "{'loss': 0.6578826, 'learning_rate': 2e-06}\n",
      "{'loss': 0.64691734, 'learning_rate': 2e-06}\n",
      "{'loss': 0.67216176, 'learning_rate': 2e-06}\n",
      "{'loss': 0.6479987, 'learning_rate': 2e-06}\n",
      "{'loss': 0.6255169, 'learning_rate': 2e-06}\n",
      "{'loss': 0.6965535, 'learning_rate': 2e-06}\n",
      "{'loss': 0.7643271, 'learning_rate': 2e-06}\n",
      "{'loss': 0.7070406, 'learning_rate': 2e-06}\n",
      "{'loss': 0.6630166, 'learning_rate': 2e-06}\n",
      "{'loss': 0.7244446, 'learning_rate': 2e-06}\n",
      "{'loss': 0.67745554, 'learning_rate': 2e-06}\n",
      "{'loss': 0.7075985, 'learning_rate': 2e-06}\n",
      "{'loss': 0.6526084, 'learning_rate': 2e-06}\n",
      "{'loss': 0.6488433, 'learning_rate': 2e-06}\n",
      "{'loss': 0.6489909, 'learning_rate': 2e-06}\n",
      "{'loss': 0.6325803, 'learning_rate': 2e-06}\n",
      "{'loss': 0.6249443, 'learning_rate': 2e-06}\n",
      "{'loss': 0.67150605, 'learning_rate': 2e-06}\n",
      "{'loss': 0.68246734, 'learning_rate': 2e-06}\n",
      "{'loss': 0.6337931, 'learning_rate': 2e-06}\n",
      "{'loss': 0.59776205, 'learning_rate': 2e-06}\n",
      "{'loss': 0.6024219, 'learning_rate': 2e-06}\n",
      "{'loss': 0.78117883, 'learning_rate': 2e-06}\n",
      "{'loss': 0.6496825, 'learning_rate': 2e-06}\n",
      "{'loss': 0.6157002, 'learning_rate': 2e-06}\n",
      "{'loss': 0.68324816, 'learning_rate': 2e-06}\n",
      "{'loss': 0.57705927, 'learning_rate': 2e-06}\n",
      "{'loss': 0.7006272, 'learning_rate': 2e-06}\n",
      "{'loss': 0.69028026, 'learning_rate': 2e-06}\n",
      "{'loss': 0.56040514, 'learning_rate': 2e-06}\n",
      "{'loss': 0.60663915, 'learning_rate': 2e-06}\n",
      "{'loss': 0.62129366, 'learning_rate': 2e-06}\n",
      "{'loss': 0.68551576, 'learning_rate': 2e-06}\n",
      "{'loss': 0.7566153, 'learning_rate': 2e-06}\n",
      "{'loss': 0.65439844, 'learning_rate': 2e-06}\n",
      "{'loss': 0.6392745, 'learning_rate': 2e-06}\n",
      "{'loss': 0.69132555, 'learning_rate': 2e-06}\n",
      "{'loss': 0.7003382, 'learning_rate': 2e-06}\n",
      "{'loss': 0.69100153, 'learning_rate': 2e-06}\n",
      "{'loss': 0.6829722, 'learning_rate': 2e-06}\n",
      "{'loss': 0.6594987, 'learning_rate': 2e-06}\n",
      "{'loss': 0.64542717, 'learning_rate': 2e-06}\n",
      "{'loss': 0.6688125, 'learning_rate': 2e-06}\n",
      "{'loss': 0.6679245, 'learning_rate': 2e-06}\n",
      "{'loss': 0.66529655, 'learning_rate': 2e-06}\n",
      "{'loss': 0.6429827, 'learning_rate': 2e-06}\n",
      "{'loss': 0.56722474, 'learning_rate': 2e-06}\n",
      "{'loss': 0.6441526, 'learning_rate': 2e-06}\n",
      "{'loss': 0.6997458, 'learning_rate': 2e-06}\n",
      "{'loss': 0.6879339, 'learning_rate': 2e-06}\n",
      "{'loss': 0.4495498, 'learning_rate': 2e-06}\n",
      "{'loss': 0.6760868, 'learning_rate': 2e-06}\n",
      "{'loss': 0.74080336, 'learning_rate': 2e-06}\n",
      "{'loss': 0.6746129, 'learning_rate': 2e-06}\n",
      "{'loss': 0.742714, 'learning_rate': 2e-06}\n",
      "{'loss': 0.60293365, 'learning_rate': 2e-06}\n",
      "{'loss': 0.50277644, 'learning_rate': 2e-06}\n",
      "{'loss': 0.7262819, 'learning_rate': 2e-06}\n",
      "{'loss': 0.58433783, 'learning_rate': 2e-06}\n",
      "{'loss': 0.6106442, 'learning_rate': 2e-06}\n",
      "{'loss': 0.617002, 'learning_rate': 2e-06}\n",
      "{'loss': 0.63268155, 'learning_rate': 2e-06}\n",
      "{'loss': 0.5907942, 'learning_rate': 2e-06}\n",
      "{'loss': 0.7022754, 'learning_rate': 2e-06}\n",
      "{'loss': 0.611042, 'learning_rate': 2e-06}\n",
      "{'loss': 0.6250825, 'learning_rate': 2e-06}\n",
      "{'loss': 0.70909405, 'learning_rate': 2e-06}\n",
      "{'loss': 0.64602757, 'learning_rate': 2e-06}\n",
      "{'loss': 0.75994337, 'learning_rate': 2e-06}\n",
      "{'loss': 0.61325955, 'learning_rate': 2e-06}\n",
      "{'loss': 0.6546513, 'learning_rate': 2e-06}\n",
      "{'loss': 0.7341207, 'learning_rate': 2e-06}\n",
      "{'loss': 0.7113141, 'learning_rate': 2e-06}\n",
      "{'loss': 0.64780974, 'learning_rate': 2e-06}\n",
      "{'loss': 0.6460123, 'learning_rate': 2e-06}\n",
      "{'loss': 0.6989144, 'learning_rate': 2e-06}\n",
      "{'loss': 0.6668142, 'learning_rate': 2e-06}\n",
      "{'loss': 0.6415185, 'learning_rate': 2e-06}\n",
      "{'loss': 0.6615492, 'learning_rate': 2e-06}\n",
      "{'loss': 0.68401694, 'learning_rate': 2e-06}\n",
      "{'loss': 0.6709192, 'learning_rate': 2e-06}\n",
      "{'loss': 0.6478505, 'learning_rate': 2e-06}\n",
      "{'loss': 0.67476714, 'learning_rate': 2e-06}\n",
      "{'loss': 0.6199342, 'learning_rate': 2e-06}\n",
      "{'loss': 0.62040496, 'learning_rate': 2e-06}\n",
      "{'loss': 0.60427594, 'learning_rate': 2e-06}\n",
      "{'loss': 0.6426078, 'learning_rate': 2e-06}\n",
      "{'loss': 0.676777, 'learning_rate': 2e-06}\n",
      "{'loss': 0.72616124, 'learning_rate': 2e-06}\n",
      "{'loss': 0.5460051, 'learning_rate': 2e-06}\n",
      "{'loss': 0.52888155, 'learning_rate': 2e-06}\n",
      "{'loss': 0.6959063, 'learning_rate': 2e-06}\n",
      "{'loss': 0.75327337, 'learning_rate': 2e-06}\n",
      "{'loss': 0.6902353, 'learning_rate': 2e-06}\n",
      "{'loss': 0.5284203, 'learning_rate': 2e-06}\n",
      "{'loss': 0.62266433, 'learning_rate': 2e-06}\n",
      "{'loss': 0.64878964, 'learning_rate': 2e-06}\n",
      "{'loss': 0.68523633, 'learning_rate': 2e-06}\n",
      "{'loss': 0.6117703, 'learning_rate': 2e-06}\n",
      "{'loss': 0.690567, 'learning_rate': 2e-06}\n",
      "{'loss': 0.6890846, 'learning_rate': 2e-06}\n",
      "{'loss': 0.6735734, 'learning_rate': 2e-06}\n",
      "{'loss': 0.6183634, 'learning_rate': 2e-06}\n",
      "{'loss': 0.7093282, 'learning_rate': 2e-06}\n",
      "{'loss': 0.65446156, 'learning_rate': 2e-06}\n",
      "{'loss': 0.66241705, 'learning_rate': 2e-06}\n",
      "{'loss': 0.68265057, 'learning_rate': 2e-06}\n",
      "{'loss': 0.68165946, 'learning_rate': 2e-06}\n",
      "{'loss': 0.6425799, 'learning_rate': 2e-06}\n",
      "{'loss': 0.62929976, 'learning_rate': 2e-06}\n",
      "{'loss': 0.6833191, 'learning_rate': 2e-06}\n",
      "{'loss': 0.6051552, 'learning_rate': 2e-06}\n",
      "{'loss': 0.6250317, 'learning_rate': 2e-06}\n",
      "{'loss': 0.6903447, 'learning_rate': 2e-06}\n",
      "{'loss': 0.6439942, 'learning_rate': 2e-06}\n",
      "{'loss': 0.7213777, 'learning_rate': 2e-06}\n",
      "{'loss': 0.65097666, 'learning_rate': 2e-06}\n",
      "{'loss': 0.7359736, 'learning_rate': 2e-06}\n",
      "{'loss': 0.61058533, 'learning_rate': 2e-06}\n",
      "{'loss': 0.7226001, 'learning_rate': 2e-06}\n",
      "{'loss': 0.6149521, 'learning_rate': 2e-06}\n",
      "{'loss': 0.63040745, 'learning_rate': 2e-06}\n",
      "{'loss': 0.59113, 'learning_rate': 2e-06}\n",
      "{'loss': 0.6291076, 'learning_rate': 2e-06}\n",
      "{'loss': 0.6319683, 'learning_rate': 2e-06}\n",
      "{'loss': 0.7358038, 'learning_rate': 2e-06}\n",
      "{'loss': 0.63023114, 'learning_rate': 2e-06}\n",
      "{'loss': 0.5941014, 'learning_rate': 2e-06}\n",
      "{'loss': 0.5585536, 'learning_rate': 2e-06}\n",
      "{'loss': 0.5285901, 'learning_rate': 2e-06}\n",
      "{'loss': 0.59040654, 'learning_rate': 2e-06}\n",
      "{'loss': 0.6764686, 'learning_rate': 2e-06}\n",
      "{'loss': 0.60599947, 'learning_rate': 2e-06}\n",
      "{'loss': 0.78164387, 'learning_rate': 2e-06}\n",
      "{'loss': 0.7139189, 'learning_rate': 2e-06}\n",
      "{'loss': 0.58032423, 'learning_rate': 2e-06}\n",
      "{'loss': 0.6952373, 'learning_rate': 2e-06}\n",
      "{'loss': 0.5957604, 'learning_rate': 2e-06}\n",
      "{'loss': 0.6247506, 'learning_rate': 2e-06}\n",
      "{'loss': 0.6959613, 'learning_rate': 2e-06}\n",
      "{'loss': 0.61321735, 'learning_rate': 2e-06}\n",
      "{'loss': 0.66500556, 'learning_rate': 2e-06}\n",
      "{'loss': 0.59191364, 'learning_rate': 2e-06}\n",
      "{'loss': 0.6368393, 'learning_rate': 2e-06}\n",
      "{'loss': 0.626423, 'learning_rate': 2e-06}\n",
      "{'loss': 0.70076716, 'learning_rate': 2e-06}\n",
      "{'loss': 0.62350446, 'learning_rate': 2e-06}\n",
      "{'loss': 0.67695, 'learning_rate': 2e-06}\n",
      "{'loss': 0.65315187, 'learning_rate': 2e-06}\n",
      "{'loss': 0.62431794, 'learning_rate': 2e-06}\n",
      "{'loss': 0.60792196, 'learning_rate': 2e-06}\n",
      "{'loss': 0.6781873, 'learning_rate': 2e-06}\n",
      "{'loss': 0.62308025, 'learning_rate': 2e-06}\n",
      "{'loss': 0.6104709, 'learning_rate': 2e-06}\n",
      "{'loss': 0.61270785, 'learning_rate': 2e-06}\n",
      "{'loss': 0.6524622, 'learning_rate': 2e-06}\n",
      "{'loss': 0.5310628, 'learning_rate': 2e-06}\n",
      "{'loss': 0.6127211, 'learning_rate': 2e-06}\n",
      "{'loss': 0.6754091, 'learning_rate': 2e-06}\n",
      "{'loss': 0.7300197, 'learning_rate': 2e-06}\n",
      "{'loss': 0.6045214, 'learning_rate': 2e-06}\n",
      "{'loss': 0.5456539, 'learning_rate': 2e-06}\n",
      "{'loss': 0.6970817, 'learning_rate': 2e-06}\n",
      "{'loss': 0.64172864, 'learning_rate': 2e-06}\n",
      "{'loss': 0.7071607, 'learning_rate': 2e-06}\n",
      "{'loss': 0.5945166, 'learning_rate': 2e-06}\n",
      "{'loss': 0.69605637, 'learning_rate': 2e-06}\n",
      "{'loss': 0.61971223, 'learning_rate': 2e-06}\n"
     ]
    },
    {
     "name": "stdout",
     "output_type": "stream",
     "text": [
      "{'loss': 0.6365743, 'learning_rate': 2e-06}\n",
      "{'loss': 0.57487106, 'learning_rate': 2e-06}\n",
      "{'loss': 0.62990284, 'learning_rate': 2e-06}\n",
      "{'loss': 0.6418253, 'learning_rate': 2e-06}\n",
      "{'loss': 0.67594606, 'learning_rate': 2e-06}\n",
      "{'loss': 0.6650083, 'learning_rate': 2e-06}\n",
      "{'loss': 0.5343714, 'learning_rate': 2e-06}\n",
      "{'loss': 0.6002871, 'learning_rate': 2e-06}\n",
      "{'loss': 0.6458644, 'learning_rate': 2e-06}\n",
      "{'loss': 0.60537636, 'learning_rate': 2e-06}\n",
      "{'loss': 0.72260296, 'learning_rate': 2e-06}\n",
      "{'loss': 0.5957589, 'learning_rate': 2e-06}\n",
      "{'loss': 0.5650791, 'learning_rate': 2e-06}\n",
      "{'loss': 0.7108805, 'learning_rate': 2e-06}\n",
      "{'loss': 0.6071268, 'learning_rate': 2e-06}\n",
      "{'loss': 0.6119791, 'learning_rate': 2e-06}\n",
      "{'loss': 0.663414, 'learning_rate': 2e-06}\n",
      "{'loss': 0.65172446, 'learning_rate': 2e-06}\n",
      "{'loss': 0.64490616, 'learning_rate': 2e-06}\n",
      "{'loss': 0.6604345, 'learning_rate': 2e-06}\n",
      "{'loss': 0.58588886, 'learning_rate': 2e-06}\n",
      "{'loss': 0.6191325, 'learning_rate': 2e-06}\n",
      "{'loss': 0.6469478, 'learning_rate': 2e-06}\n",
      "{'loss': 0.62408197, 'learning_rate': 2e-06}\n",
      "{'loss': 0.68638396, 'learning_rate': 2e-06}\n",
      "{'loss': 0.6165489, 'learning_rate': 2e-06}\n",
      "{'loss': 0.5111153, 'learning_rate': 2e-06}\n",
      "{'loss': 0.5868087, 'learning_rate': 2e-06}\n",
      "{'loss': 0.53502536, 'learning_rate': 2e-06}\n",
      "{'loss': 0.65949273, 'learning_rate': 2e-06}\n",
      "{'loss': 0.6623189, 'learning_rate': 2e-06}\n",
      "{'loss': 0.61305344, 'learning_rate': 2e-06}\n",
      "{'loss': 0.4874258, 'learning_rate': 2e-06}\n",
      "{'loss': 0.7657424, 'learning_rate': 2e-06}\n",
      "{'loss': 0.5229194, 'learning_rate': 2e-06}\n",
      "{'loss': 0.70621705, 'learning_rate': 2e-06}\n",
      "{'loss': 0.55525905, 'learning_rate': 2e-06}\n",
      "{'loss': 0.6289154, 'learning_rate': 2e-06}\n",
      "{'loss': 0.6116458, 'learning_rate': 2e-06}\n",
      "{'loss': 0.67378974, 'learning_rate': 2e-06}\n",
      "{'loss': 0.6266376, 'learning_rate': 2e-06}\n",
      "{'loss': 0.62152475, 'learning_rate': 2e-06}\n",
      "{'loss': 0.6059088, 'learning_rate': 2e-06}\n",
      "{'loss': 0.5934447, 'learning_rate': 2e-06}\n",
      "{'loss': 0.60613096, 'learning_rate': 2e-06}\n",
      "{'loss': 0.56603646, 'learning_rate': 2e-06}\n",
      "{'loss': 0.5655428, 'learning_rate': 2e-06}\n",
      "{'loss': 0.7123419, 'learning_rate': 2e-06}\n",
      "{'loss': 0.49987504, 'learning_rate': 2e-06}\n",
      "{'loss': 0.6622496, 'learning_rate': 2e-06}\n",
      "{'loss': 0.6314795, 'learning_rate': 2e-06}\n",
      "{'loss': 0.64276844, 'learning_rate': 2e-06}\n",
      "{'loss': 0.51203024, 'learning_rate': 2e-06}\n",
      "{'loss': 0.65689945, 'learning_rate': 2e-06}\n",
      "{'loss': 0.5652878, 'learning_rate': 2e-06}\n",
      "{'loss': 0.6314465, 'learning_rate': 2e-06}\n",
      "{'loss': 0.6093706, 'learning_rate': 2e-06}\n",
      "{'loss': 0.66414905, 'learning_rate': 2e-06}\n",
      "{'loss': 0.6087549, 'learning_rate': 2e-06}\n",
      "{'loss': 0.68650794, 'learning_rate': 2e-06}\n",
      "{'loss': 0.5874303, 'learning_rate': 2e-06}\n",
      "{'loss': 0.7259005, 'learning_rate': 2e-06}\n",
      "{'loss': 0.5661131, 'learning_rate': 2e-06}\n",
      "{'loss': 0.6129109, 'learning_rate': 2e-06}\n",
      "{'loss': 0.65029395, 'learning_rate': 2e-06}\n",
      "{'loss': 0.5424693, 'learning_rate': 2e-06}\n",
      "{'loss': 0.5743182, 'learning_rate': 2e-06}\n",
      "{'loss': 0.5763074, 'learning_rate': 2e-06}\n",
      "{'loss': 0.6269263, 'learning_rate': 2e-06}\n",
      "{'loss': 0.6978115, 'learning_rate': 2e-06}\n",
      "{'loss': 0.5277984, 'learning_rate': 2e-06}\n",
      "{'loss': 0.5565909, 'learning_rate': 2e-06}\n",
      "{'loss': 0.5759599, 'learning_rate': 2e-06}\n",
      "{'loss': 0.5188634, 'learning_rate': 2e-06}\n",
      "{'loss': 0.6418132, 'learning_rate': 2e-06}\n",
      "{'loss': 0.59027267, 'learning_rate': 2e-06}\n",
      "{'loss': 0.5730274, 'learning_rate': 2e-06}\n",
      "{'loss': 0.6542874, 'learning_rate': 2e-06}\n",
      "{'loss': 0.6393614, 'learning_rate': 2e-06}\n",
      "{'loss': 0.5988674, 'learning_rate': 2e-06}\n",
      "{'loss': 0.63162065, 'learning_rate': 2e-06}\n",
      "{'loss': 0.60801035, 'learning_rate': 2e-06}\n",
      "{'loss': 0.6178266, 'learning_rate': 2e-06}\n",
      "{'loss': 0.61056805, 'learning_rate': 2e-06}\n",
      "{'loss': 0.66592646, 'learning_rate': 2e-06}\n",
      "{'loss': 0.5933655, 'learning_rate': 2e-06}\n",
      "{'loss': 0.6629698, 'learning_rate': 2e-06}\n",
      "{'loss': 0.68529665, 'learning_rate': 2e-06}\n",
      "{'loss': 0.6208925, 'learning_rate': 2e-06}\n",
      "{'loss': 0.5702187, 'learning_rate': 2e-06}\n",
      "{'loss': 0.62045693, 'learning_rate': 2e-06}\n",
      "{'loss': 0.6362488, 'learning_rate': 2e-06}\n",
      "{'loss': 0.51909834, 'learning_rate': 2e-06}\n",
      "{'loss': 0.575173, 'learning_rate': 2e-06}\n",
      "{'loss': 0.51461613, 'learning_rate': 2e-06}\n",
      "{'loss': 0.5374762, 'learning_rate': 2e-06}\n",
      "{'loss': 0.5544903, 'learning_rate': 2e-06}\n",
      "{'loss': 0.65507895, 'learning_rate': 2e-06}\n",
      "{'loss': 0.61573863, 'learning_rate': 2e-06}\n",
      "{'loss': 0.60509694, 'learning_rate': 2e-06}\n",
      "{'loss': 0.579653, 'learning_rate': 2e-06}\n",
      "{'loss': 0.5672169, 'learning_rate': 2e-06}\n",
      "{'loss': 0.5121708, 'learning_rate': 2e-06}\n",
      "{'loss': 0.64097536, 'learning_rate': 2e-06}\n",
      "{'loss': 0.5404921, 'learning_rate': 2e-06}\n",
      "{'loss': 0.56284976, 'learning_rate': 2e-06}\n",
      "{'loss': 0.7121055, 'learning_rate': 2e-06}\n",
      "{'loss': 0.69773376, 'learning_rate': 2e-06}\n",
      "{'loss': 0.49599242, 'learning_rate': 2e-06}\n",
      "{'loss': 0.5909272, 'learning_rate': 2e-06}\n",
      "{'loss': 0.54412407, 'learning_rate': 2e-06}\n",
      "{'loss': 0.6691271, 'learning_rate': 2e-06}\n",
      "{'loss': 0.58641183, 'learning_rate': 2e-06}\n",
      "{'loss': 0.5881189, 'learning_rate': 2e-06}\n",
      "{'loss': 0.6577659, 'learning_rate': 2e-06}\n",
      "{'loss': 0.49333164, 'learning_rate': 2e-06}\n",
      "{'loss': 0.6522978, 'learning_rate': 2e-06}\n",
      "{'loss': 0.58571833, 'learning_rate': 2e-06}\n",
      "{'loss': 0.5168999, 'learning_rate': 2e-06}\n",
      "{'loss': 0.4944028, 'learning_rate': 2e-06}\n",
      "{'loss': 0.6341182, 'learning_rate': 2e-06}\n",
      "{'loss': 0.86710906, 'learning_rate': 2e-06}\n",
      "{'loss': 0.50397563, 'learning_rate': 2e-06}\n",
      "{'loss': 0.5333816, 'learning_rate': 2e-06}\n",
      "{'loss': 0.5435138, 'learning_rate': 2e-06}\n",
      "{'loss': 0.6016034, 'learning_rate': 2e-06}\n",
      "{'loss': 0.6025343, 'learning_rate': 2e-06}\n",
      "{'loss': 0.6025693, 'learning_rate': 2e-06}\n",
      "{'loss': 0.5923308, 'learning_rate': 2e-06}\n",
      "{'loss': 0.5011518, 'learning_rate': 2e-06}\n",
      "{'loss': 0.55773985, 'learning_rate': 2e-06}\n",
      "{'loss': 0.5279105, 'learning_rate': 2e-06}\n",
      "{'loss': 0.5399078, 'learning_rate': 2e-06}\n",
      "{'loss': 0.53129536, 'learning_rate': 2e-06}\n",
      "{'loss': 0.56551635, 'learning_rate': 2e-06}\n",
      "\n"
     ]
    }
   ],
   "source": [
    "train_model_batch(zip(train_data_, train_true_), 32)"
   ]
  },
  {
   "cell_type": "code",
   "execution_count": null,
   "metadata": {},
   "outputs": [],
   "source": []
  },
  {
   "cell_type": "code",
   "execution_count": 21,
   "metadata": {},
   "outputs": [
    {
     "data": {
      "application/vnd.jupyter.widget-view+json": {
       "model_id": "591ec7017c8346c9abc9f4d7772de277",
       "version_major": 2,
       "version_minor": 0
      },
      "text/plain": [
       "HBox(children=(IntProgress(value=1, bar_style='info', max=1), HTML(value='')))"
      ]
     },
     "metadata": {},
     "output_type": "display_data"
    },
    {
     "name": "stdout",
     "output_type": "stream",
     "text": [
      "\n",
      "[(0.24437527, 0), (0.23488504, 1), (0.22981948, 0), (0.13666928, 0), (0.20167416, 1), (0.2971854, 0), (0.3942679, 0), (0.4376179, 1), (0.3150537, 0), (0.59521925, 1), (0.32211435, 1), (0.19389792, 1), (0.43277887, 1), (0.37747285, 1), (0.65493226, 1), (0.19636887, 1), (0.5615346, 1), (0.38698795, 0), (0.23794456, 0), (0.3131529, 0), (0.37061986, 0), (0.2513588, 1), (0.45984462, 1), (0.4882022, 0), (0.23242934, 1), (0.3969434, 1), (0.19502546, 0), (0.10313329, 0), (0.11177452, 0), (0.2329289, 1), (0.19584127, 1), (0.600192, 1), (0.1907665, 0), (0.34531248, 1), (0.15879016, 1), (0.21486291, 0), (0.23007298, 1), (0.15267642, 1), (0.14425042, 0), (0.26472068, 0), (0.11452936, 0), (0.21640041, 0), (0.19540477, 0), (0.28980583, 0), (0.75518924, 1), (0.18571968, 0), (0.26095113, 0), (0.5190089, 1), (0.24244614, 0), (0.24992885, 1), (0.29815975, 0), (0.477792, 1), (0.21606818, 0), (0.44444466, 1), (0.28924066, 0), (0.7505495, 1), (0.46090767, 0), (0.33174416, 1), (0.5076641, 1), (0.7451736, 1), (0.27253702, 1), (0.12909676, 0), (0.30309552, 0), (0.3141385, 1), (0.22973573, 0), (0.48320758, 0), (0.1533132, 0), (0.2139704, 0), (0.58857566, 1), (0.27567443, 1), (0.23806693, 0), (0.30623204, 1), (0.30619687, 0), (0.29543823, 0), (0.6646067, 1), (0.14005129, 0), (0.23928913, 1), (0.3319778, 1), (0.15182546, 0), (0.21466075, 0), (0.22335137, 0), (0.29383624, 1), (0.8268876, 1), (0.30198878, 0), (0.09949191, 0), (0.09443956, 0), (0.36233893, 0), (0.13249016, 0), (0.12781091, 0), (0.29490873, 1), (0.16988531, 0), (0.2233903, 0), (0.22843689, 0), (0.7486341, 1), (0.22726573, 1), (0.23950423, 1), (0.232145, 0), (0.28370067, 0), (0.54037565, 1), (0.14026937, 1), (0.16266188, 1), (0.4743472, 1), (0.11978331, 0), (0.36082816, 0), (0.20138206, 0), (0.71203053, 1), (0.32302746, 0), (0.2211645, 0), (0.35945103, 0), (0.5246274, 0), (0.20443371, 0), (0.3580719, 0), (0.6022847, 1), (0.25186554, 0), (0.250211, 0), (0.365904, 0), (0.17603861, 0), (0.42958346, 0), (0.28840783, 0), (0.27389836, 0), (0.15245233, 0), (0.5830936, 0), (0.18383789, 0), (0.20484246, 1), (0.11919211, 0), (0.19302474, 0), (0.31918135, 0), (0.27613345, 1), (0.2793685, 1), (0.08614004, 1), (0.5293856, 1), (0.09621977, 0), (0.20589523, 1), (0.27520385, 1), (0.20782335, 1), (0.42122707, 0), (0.5382253, 1), (0.38447878, 0), (0.3358089, 1), (0.7326459, 1), (0.17953463, 0), (0.103590466, 0), (0.54953384, 1), (0.13580406, 0), (0.23281278, 1), (0.10432325, 0), (0.14199632, 1), (0.4923422, 1), (0.10972053, 0), (0.2386554, 1), (0.185544, 1), (0.29006416, 1), (0.4716334, 1), (0.111310855, 0), (0.22392243, 0), (0.13917683, 0), (0.3164676, 0), (0.32221994, 1), (0.44434825, 0), (0.1292317, 0), (0.10993591, 0), (0.33205014, 0), (0.32362834, 1), (0.17277868, 0), (0.082316495, 0), (0.56471974, 1), (0.67508245, 0), (0.27577683, 1), (0.103723116, 0), (0.28315932, 1), (0.3085992, 0), (0.11735649, 0), (0.093575865, 0), (0.13870569, 0), (0.16133332, 0), (0.17676191, 0), (0.69184804, 1), (0.38627565, 0), (0.49278048, 1), (0.18898253, 1), (0.19870791, 0), (0.30109376, 0), (0.3397761, 0), (0.3638809, 1), (0.18516807, 0), (0.4627749, 1), (0.32217544, 0), (0.26220235, 0), (0.3625647, 1), (0.47005352, 0), (0.25061086, 0), (0.3471678, 0), (0.19828258, 0), (0.20089114, 1), (0.3424801, 1), (0.6119184, 0), (0.2186493, 0), (0.20261674, 0), (0.2277389, 0), (0.11557052, 0), (0.19255693, 0), (0.237679, 0), (0.32514393, 1), (0.14198604, 0), (0.28010088, 0), (0.20236754, 0), (0.12429133, 0), (0.09175989, 0), (0.3154239, 0), (0.26075846, 0), (0.31524435, 0), (0.4556298, 1), (0.22453977, 0), (0.6651375, 0), (0.13435073, 1), (0.20813668, 0), (0.5921205, 1), (0.20065628, 1), (0.34521043, 1), (0.22082649, 0), (0.11095847, 0), (0.43751106, 1), (0.3059677, 0), (0.20753342, 0), (0.13568269, 0), (0.09746803, 0), (0.22988558, 0), (0.3396908, 0), (0.2248281, 0), (0.59650964, 1), (0.23104312, 0), (0.2307591, 0), (0.5090568, 0), (0.6563181, 1), (0.15678133, 0), (0.5712081, 1), (0.23133211, 0), (0.55997926, 1), (0.19898541, 0), (0.20650068, 1), (0.42986032, 1), (0.23380671, 0), (0.19832936, 1), (0.17449509, 0), (0.26895738, 0), (0.27424437, 1), (0.3169177, 1), (0.64648765, 1), (0.39490572, 1), (0.14693409, 0), (0.21345481, 0), (0.22487693, 0), (0.3712027, 1), (0.25362352, 0), (0.31868052, 0), (0.1301452, 0)]\n",
      "AUC 0.7438884644766998\n"
     ]
    }
   ],
   "source": [
    "y_prob = list(apply_model_batch(test_data_, 96))\n",
    "y_score = list(map(lambda x: x[1], y_prob))\n",
    "\n",
    "print(list(zip(y_score, test_true_)))\n",
    "print('AUC', metrics.roc_auc_score(test_true_, y_score))"
   ]
  },
  {
   "cell_type": "code",
   "execution_count": null,
   "metadata": {},
   "outputs": [],
   "source": []
  },
  {
   "cell_type": "code",
   "execution_count": null,
   "metadata": {},
   "outputs": [],
   "source": []
  }
 ],
 "metadata": {
  "kernelspec": {
   "display_name": "Python 3",
   "language": "python",
   "name": "python3"
  },
  "language_info": {
   "codemirror_mode": {
    "name": "ipython",
    "version": 3
   },
   "file_extension": ".py",
   "mimetype": "text/x-python",
   "name": "python",
   "nbconvert_exporter": "python",
   "pygments_lexer": "ipython3",
   "version": "3.7.3"
  }
 },
 "nbformat": 4,
 "nbformat_minor": 2
}
