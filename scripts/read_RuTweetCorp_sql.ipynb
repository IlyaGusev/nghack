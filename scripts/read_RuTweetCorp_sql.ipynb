{
 "cells": [
  {
   "cell_type": "code",
   "execution_count": null,
   "metadata": {},
   "outputs": [],
   "source": [
    "import numpy as np\n",
    "import sqlite3"
   ]
  },
  {
   "cell_type": "code",
   "execution_count": null,
   "metadata": {},
   "outputs": [],
   "source": [
    "DB_FILE = '/home/lyubanenko/data/nghack_data/RuTweetCorp.db'\n",
    "OUT_FILE = '/home/lyubanenko/data/nghack_data/RuTweetCorp.txt'"
   ]
  },
  {
   "cell_type": "code",
   "execution_count": null,
   "metadata": {},
   "outputs": [],
   "source": [
    "def import_db(db, samples=100):\n",
    "    conn = sqlite3.connect(db)\n",
    "    c = conn.cursor()\n",
    "    #print('Tables: ', c.execute(\"SELECT name FROM sqlite_master WHERE type='table';\").fetchall())\n",
    "    \n",
    "    table = 'sentiment'\n",
    "    rows = c.execute(f'SELECT * FROM {table};') # LIMIT {samples};').fetchall()\n",
    "\n",
    "    for row in rows:\n",
    "        text = row[3]\n",
    "        if text and text.strip():\n",
    "            yield text.strip().replace('\\n', ' ')"
   ]
  },
  {
   "cell_type": "code",
   "execution_count": null,
   "metadata": {},
   "outputs": [],
   "source": [
    "data = list(import_db(DB_FILE))\n",
    "np.savetxt(OUT_FILE, data, fmt='%s', delimiter=' ')  "
   ]
  }
 ],
 "metadata": {
  "kernelspec": {
   "display_name": "Python 3",
   "language": "python",
   "name": "python3"
  },
  "language_info": {
   "codemirror_mode": {
    "name": "ipython",
    "version": 3
   },
   "file_extension": ".py",
   "mimetype": "text/x-python",
   "name": "python",
   "nbconvert_exporter": "python",
   "pygments_lexer": "ipython3",
   "version": "3.6.6"
  }
 },
 "nbformat": 4,
 "nbformat_minor": 2
}
