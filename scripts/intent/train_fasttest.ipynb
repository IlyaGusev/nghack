{
 "cells": [
  {
   "cell_type": "code",
   "execution_count": null,
   "metadata": {},
   "outputs": [],
   "source": [
    "import csv\n",
    "import fasttext\n",
    "import hashlib\n",
    "import os\n",
    "import pickle\n",
    "import re\n",
    "import scipy\n",
    "import sklearn.metrics\n",
    "\n",
    "import numpy as np\n",
    "import pandas as pd"
   ]
  },
  {
   "cell_type": "code",
   "execution_count": null,
   "metadata": {},
   "outputs": [],
   "source": []
  },
  {
   "cell_type": "code",
   "execution_count": null,
   "metadata": {},
   "outputs": [],
   "source": []
  },
  {
   "cell_type": "code",
   "execution_count": null,
   "metadata": {},
   "outputs": [],
   "source": [
    "REPO_DIR = '/home/lyubanenko/data/nghack'"
   ]
  },
  {
   "cell_type": "code",
   "execution_count": null,
   "metadata": {},
   "outputs": [],
   "source": [
    "TRAIN_FILE = os.path.join(REPO_DIR, 'intent/data/train.bin')\n",
    "TEST_FILE = os.path.join(REPO_DIR, 'intent/data/text.bin')\n",
    "\n",
    "FASTTEXT_FULL_FILE = '/home/lyubanenko/data/nghack_tmp/_intent_full.txt'\n",
    "FASTTEXT_TEST_FILE = '/home/lyubanenko/data/nghack_tmp/_intent_test.txt'\n",
    "\n",
    "FASTTEXT_TRAIN_FILE = '/home/lyubanenko/data/nghack_tmp/_intent_train.txt'\n",
    "FASTTEXT_VALID_FILE = '/home/lyubanenko/data/nghack_tmp/_intent_valid.txt'"
   ]
  },
  {
   "cell_type": "code",
   "execution_count": null,
   "metadata": {},
   "outputs": [],
   "source": []
  },
  {
   "cell_type": "code",
   "execution_count": null,
   "metadata": {},
   "outputs": [],
   "source": []
  },
  {
   "cell_type": "code",
   "execution_count": null,
   "metadata": {},
   "outputs": [],
   "source": [
    "train_ = pickle.load(open(TRAIN_FILE, \"rb\"))\n",
    "test_ = pickle.load(open(TEST_FILE, \"rb\"))\n",
    "\n",
    "print(train_.shape, test_.shape)"
   ]
  },
  {
   "cell_type": "code",
   "execution_count": null,
   "metadata": {},
   "outputs": [],
   "source": []
  },
  {
   "cell_type": "code",
   "execution_count": null,
   "metadata": {},
   "outputs": [],
   "source": []
  },
  {
   "cell_type": "code",
   "execution_count": null,
   "metadata": {},
   "outputs": [],
   "source": [
    "def clean_text(text):\n",
    "    text = str(text).strip().lower()\n",
    "    text = text.replace('\\n', ' ')\n",
    "    text = text.strip(\"“ ”‘ ’«»\\\"'?!.;: \")\n",
    "    text = re.sub(' +', ' ', text)\n",
    "    return text\n",
    "\n",
    "def process_df(data):\n",
    "    data = data[data['text'] != 'nan']\n",
    "    data['text'] = data['text'].apply(clean_text)\n",
    "    return data\n",
    "\n",
    "train_ = process_df(train_)\n",
    "test_ = process_df(test_)\n",
    "\n",
    "print(train_.shape, test_.shape)"
   ]
  },
  {
   "cell_type": "code",
   "execution_count": null,
   "metadata": {},
   "outputs": [],
   "source": []
  },
  {
   "cell_type": "code",
   "execution_count": null,
   "metadata": {},
   "outputs": [],
   "source": []
  },
  {
   "cell_type": "code",
   "execution_count": null,
   "metadata": {},
   "outputs": [],
   "source": [
    "train_['output'] = train_.apply(lambda row: f'{row.fasttext_label} {row.text}', axis=1)\n",
    "test_['output'] = test_.apply(lambda row: f'{row.fasttext_label} {row.text}', axis=1)"
   ]
  },
  {
   "cell_type": "code",
   "execution_count": null,
   "metadata": {},
   "outputs": [],
   "source": [
    "np.savetxt(FASTTEXT_FULL_FILE, train_.output.values, fmt='%s', delimiter=' ')  \n",
    "np.savetxt(FASTTEXT_TEST_FILE, test_.output.values, fmt='%s', delimiter=' ')  "
   ]
  },
  {
   "cell_type": "code",
   "execution_count": null,
   "metadata": {},
   "outputs": [],
   "source": []
  },
  {
   "cell_type": "code",
   "execution_count": null,
   "metadata": {},
   "outputs": [],
   "source": []
  },
  {
   "cell_type": "code",
   "execution_count": null,
   "metadata": {},
   "outputs": [],
   "source": [
    "hashs = sorted(train_['hash'].unique())\n",
    "hashs_len = len(hashs)\n",
    "\n",
    "thresh = 0.8\n",
    "(train_hashs, valid_hashs) = (hashs[:int(thresh*hashs_len)], hashs[int(thresh*hashs_len)+1:])\n",
    "\n",
    "train = train_[train_['hash'].isin(train_hashs)]\n",
    "valid = train_[train_['hash'].isin(valid_hashs)]\n",
    "\n",
    "print(train.shape, valid.shape, test_.shape)"
   ]
  },
  {
   "cell_type": "code",
   "execution_count": null,
   "metadata": {},
   "outputs": [],
   "source": [
    "np.savetxt(FASTTEXT_TRAIN_FILE, train.output.values, fmt='%s', delimiter=' ')  \n",
    "np.savetxt(FASTTEXT_VALID_FILE, valid.output.values, fmt='%s', delimiter=' ')  "
   ]
  },
  {
   "cell_type": "code",
   "execution_count": null,
   "metadata": {},
   "outputs": [],
   "source": []
  },
  {
   "cell_type": "code",
   "execution_count": null,
   "metadata": {},
   "outputs": [],
   "source": []
  },
  {
   "cell_type": "code",
   "execution_count": null,
   "metadata": {
    "scrolled": true
   },
   "outputs": [],
   "source": [
    "def eval_model(model, test):\n",
    "    preds = model.predict(test.text.tolist())\n",
    "    \n",
    "    pred_labels = [pred[0] for pred in  preds[0]]\n",
    "    true_labels = test.fasttext_label.values\n",
    "\n",
    "    return sklearn.metrics.f1_score(true_labels, pred_labels, average='macro')"
   ]
  },
  {
   "cell_type": "code",
   "execution_count": null,
   "metadata": {},
   "outputs": [],
   "source": [
    "model_tune = fasttext.load_model('/home/lyubanenko/data/nghack/solution/models/intent.ftz')\n",
    "print('f1_score', eval_model(model_tune, test_))"
   ]
  },
  {
   "cell_type": "code",
   "execution_count": null,
   "metadata": {},
   "outputs": [],
   "source": []
  },
  {
   "cell_type": "code",
   "execution_count": null,
   "metadata": {},
   "outputs": [],
   "source": []
  },
  {
   "cell_type": "code",
   "execution_count": null,
   "metadata": {},
   "outputs": [],
   "source": []
  },
  {
   "cell_type": "code",
   "execution_count": null,
   "metadata": {},
   "outputs": [],
   "source": []
  },
  {
   "cell_type": "code",
   "execution_count": null,
   "metadata": {},
   "outputs": [],
   "source": [
    "tf_model = pickle.load(open(\"/home/lyubanenko/data/nghack/solution/models/intent_tfidf.bin\", \"rb\"))\n",
    "tf_char_vectorizer = pickle.load(open(\"/home/lyubanenko/data/nghack/solution/models/char_vectorizer.bin\", \"rb\"))\n",
    "tf_word_vectorizer = pickle.load(open(\"/home/lyubanenko/data/nghack/solution/models/word_vectorizer.bin\", \"rb\"))"
   ]
  },
  {
   "cell_type": "code",
   "execution_count": null,
   "metadata": {},
   "outputs": [],
   "source": [
    "X_val_chars = tf_char_vectorizer.transform(test_['text'].tolist())\n",
    "X_val_words = tf_word_vectorizer.transform(test_['text'].tolist())\n",
    "\n",
    "X_val = scipy.sparse.hstack([X_val_chars, X_val_words])\n",
    "tf_preds = tf_model.predict_proba(X_val)"
   ]
  },
  {
   "cell_type": "code",
   "execution_count": null,
   "metadata": {},
   "outputs": [],
   "source": []
  },
  {
   "cell_type": "code",
   "execution_count": null,
   "metadata": {},
   "outputs": [],
   "source": [
    "ft_model = fasttext.load_model('/home/lyubanenko/data/nghack/solution/models/intent.ftz')\n",
    "ft_preds_raw = best_model.predict(list(test_.text.values), k=32)\n",
    "\n",
    "ft_preds = list()\n",
    "for labels, probs in zip(ft_preds_raw[0], ft_preds_raw[1]):\n",
    "    d = sorted(list(zip(labels, probs)), key=lambda x: int(x[0].replace('__label__', '')))\n",
    "    (labels, probs) = zip(*d)\n",
    "    ft_preds.append(probs)"
   ]
  },
  {
   "cell_type": "code",
   "execution_count": null,
   "metadata": {},
   "outputs": [],
   "source": [
    "res = list()\n",
    "for pr1, pr2 in zip(tf_preds, ft_preds):\n",
    "    res.append(f'__label__{np.argmax(((pr1 + pr2) / 2))}')"
   ]
  },
  {
   "cell_type": "code",
   "execution_count": null,
   "metadata": {},
   "outputs": [],
   "source": [
    "print('f1_score', sklearn.metrics.f1_score(test_.fasttext_label.values, res, average='macro'))"
   ]
  }
 ],
 "metadata": {
  "kernelspec": {
   "display_name": "Python 3",
   "language": "python",
   "name": "python3"
  },
  "language_info": {
   "codemirror_mode": {
    "name": "ipython",
    "version": 3
   },
   "file_extension": ".py",
   "mimetype": "text/x-python",
   "name": "python",
   "nbconvert_exporter": "python",
   "pygments_lexer": "ipython3",
   "version": "3.6.6"
  }
 },
 "nbformat": 4,
 "nbformat_minor": 2
}
