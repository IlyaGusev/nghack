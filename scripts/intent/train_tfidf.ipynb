{
 "cells": [
  {
   "cell_type": "code",
   "execution_count": null,
   "metadata": {},
   "outputs": [],
   "source": [
    "import csv\n",
    "import fasttext\n",
    "import hashlib\n",
    "import os\n",
    "import pickle\n",
    "import re\n",
    "import scipy\n",
    "import sklearn.metrics\n",
    "import joblib\n",
    "\n",
    "import numpy as np\n",
    "import pandas as pd"
   ]
  },
  {
   "cell_type": "code",
   "execution_count": null,
   "metadata": {},
   "outputs": [],
   "source": [
    "from sklearn.feature_extraction.text import CountVectorizer, TfidfVectorizer\n",
    "from sklearn.linear_model import LogisticRegression\n",
    "from sklearn.metrics import f1_score, make_scorer\n",
    "from sklearn.pipeline import Pipeline\n",
    "from sklearn.model_selection import cross_val_score"
   ]
  },
  {
   "cell_type": "code",
   "execution_count": null,
   "metadata": {},
   "outputs": [],
   "source": []
  },
  {
   "cell_type": "code",
   "execution_count": null,
   "metadata": {},
   "outputs": [],
   "source": []
  },
  {
   "cell_type": "code",
   "execution_count": null,
   "metadata": {},
   "outputs": [],
   "source": [
    "REPO_DIR = '/home/lyubanenko/data/nghack'"
   ]
  },
  {
   "cell_type": "code",
   "execution_count": null,
   "metadata": {},
   "outputs": [],
   "source": [
    "TRAIN_FILE = os.path.join(REPO_DIR, 'intent/data/train.bin')\n",
    "TEST_FILE = os.path.join(REPO_DIR, 'intent/data/text.bin')\n",
    "\n",
    "FASTTEXT_FULL_FILE = '/home/lyubanenko/data/nghack_tmp/_intent_full.txt'\n",
    "FASTTEXT_TEST_FILE = '/home/lyubanenko/data/nghack_tmp/_intent_test.txt'\n",
    "\n",
    "FASTTEXT_TRAIN_FILE = '/home/lyubanenko/data/nghack_tmp/_intent_train.txt'\n",
    "FASTTEXT_VALID_FILE = '/home/lyubanenko/data/nghack_tmp/_intent_valid.txt'"
   ]
  },
  {
   "cell_type": "code",
   "execution_count": null,
   "metadata": {},
   "outputs": [],
   "source": []
  },
  {
   "cell_type": "code",
   "execution_count": null,
   "metadata": {},
   "outputs": [],
   "source": []
  },
  {
   "cell_type": "code",
   "execution_count": null,
   "metadata": {},
   "outputs": [],
   "source": [
    "train_ = pickle.load(open(TRAIN_FILE, \"rb\"))\n",
    "test_ = pickle.load(open(TEST_FILE, \"rb\"))\n",
    "\n",
    "print(train_.shape, test_.shape)"
   ]
  },
  {
   "cell_type": "code",
   "execution_count": null,
   "metadata": {},
   "outputs": [],
   "source": []
  },
  {
   "cell_type": "code",
   "execution_count": null,
   "metadata": {},
   "outputs": [],
   "source": []
  },
  {
   "cell_type": "code",
   "execution_count": null,
   "metadata": {},
   "outputs": [],
   "source": [
    "def clean_text(text):\n",
    "    text = str(text).strip().lower()\n",
    "    text = text.replace('\\n', ' ')\n",
    "    text = text.strip(\"“ ”‘ ’«»\\\"'?!.;: \")\n",
    "    text = re.sub(' +', ' ', text)\n",
    "    return text\n",
    "\n",
    "def process_df(data):\n",
    "    data = data[data['text'] != 'nan']\n",
    "    data['text'] = data['text'].apply(clean_text)\n",
    "    data['target'] = data['fasttext_label'].apply(lambda x: int(x.replace('__label__', '')))\n",
    "    return data\n",
    "\n",
    "train_ = process_df(train_)\n",
    "test_ = process_df(test_)\n",
    "\n",
    "print(train_.shape, test_.shape)"
   ]
  },
  {
   "cell_type": "code",
   "execution_count": null,
   "metadata": {},
   "outputs": [],
   "source": []
  },
  {
   "cell_type": "code",
   "execution_count": null,
   "metadata": {},
   "outputs": [],
   "source": []
  },
  {
   "cell_type": "code",
   "execution_count": null,
   "metadata": {},
   "outputs": [],
   "source": [
    "char_vectorizer = TfidfVectorizer(ngram_range=(1, 5), analyzer='char')\n",
    "word_vectorizer = TfidfVectorizer(ngram_range=(1, 2))\n",
    "model = LogisticRegression(C=10)"
   ]
  },
  {
   "cell_type": "code",
   "execution_count": null,
   "metadata": {},
   "outputs": [],
   "source": [
    "X_chars = char_vectorizer.fit_transform(train_['text'].tolist())\n",
    "X_words = word_vectorizer.fit_transform(train_['text'].tolist())"
   ]
  },
  {
   "cell_type": "code",
   "execution_count": null,
   "metadata": {},
   "outputs": [],
   "source": [
    "X = scipy.sparse.hstack([X_chars, X_words])\n",
    "\n",
    "model.fit(X, train_['target'].tolist())"
   ]
  },
  {
   "cell_type": "code",
   "execution_count": null,
   "metadata": {},
   "outputs": [],
   "source": []
  },
  {
   "cell_type": "code",
   "execution_count": null,
   "metadata": {},
   "outputs": [],
   "source": []
  },
  {
   "cell_type": "code",
   "execution_count": null,
   "metadata": {},
   "outputs": [],
   "source": [
    "X_val_chars = char_vectorizer.transform(test_['text'].tolist())\n",
    "X_val_words = word_vectorizer.transform(test_['text'].tolist())\n",
    "\n",
    "X_val = scipy.sparse.hstack([X_val_chars, X_val_words])\n",
    "val_preds = model.predict(X_val)"
   ]
  },
  {
   "cell_type": "code",
   "execution_count": null,
   "metadata": {},
   "outputs": [],
   "source": []
  },
  {
   "cell_type": "code",
   "execution_count": null,
   "metadata": {},
   "outputs": [],
   "source": [
    "pickle.dump(model, open('/home/lyubanenko/data/nghack/solution/models/intent_tfidf.bin', \"wb\"))\n",
    "pickle.dump(char_vectorizer, open('/home/lyubanenko/data/nghack/solution/models/char_vectorizer.bin', \"wb\"))\n",
    "pickle.dump(word_vectorizer, open('/home/lyubanenko/data/nghack/solution/models/word_vectorizer.bin', \"wb\"))"
   ]
  }
 ],
 "metadata": {
  "kernelspec": {
   "display_name": "Python 3",
   "language": "python",
   "name": "python3"
  },
  "language_info": {
   "codemirror_mode": {
    "name": "ipython",
    "version": 3
   },
   "file_extension": ".py",
   "mimetype": "text/x-python",
   "name": "python",
   "nbconvert_exporter": "python",
   "pygments_lexer": "ipython3",
   "version": "3.6.6"
  }
 },
 "nbformat": 4,
 "nbformat_minor": 2
}
