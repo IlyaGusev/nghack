{
 "cells": [
  {
   "cell_type": "code",
   "execution_count": 1,
   "metadata": {},
   "outputs": [],
   "source": [
    "import hashlib\n",
    "import pandas as pd\n",
    "import pickle\n",
    "import os"
   ]
  },
  {
   "cell_type": "code",
   "execution_count": null,
   "metadata": {},
   "outputs": [],
   "source": []
  },
  {
   "cell_type": "code",
   "execution_count": 2,
   "metadata": {},
   "outputs": [],
   "source": [
    "REPO_DIR = '/home/lyubanenko/data/nghack'"
   ]
  },
  {
   "cell_type": "code",
   "execution_count": 3,
   "metadata": {},
   "outputs": [],
   "source": [
    "DATA_FILE = os.path.join(REPO_DIR, 'data/intent_train.csv')\n",
    "\n",
    "OUT_LABELS_FILE = os.path.join(REPO_DIR, 'intent/data/labels.csv')\n",
    "OUT_TRAIN_FILE = os.path.join(REPO_DIR, 'intent/data/train.bin')\n",
    "OUT_TEST_FILE = os.path.join(REPO_DIR, 'intent/data/text.bin')"
   ]
  },
  {
   "cell_type": "code",
   "execution_count": 4,
   "metadata": {},
   "outputs": [],
   "source": [
    "data_ = pd.read_csv(DATA_FILE)"
   ]
  },
  {
   "cell_type": "code",
   "execution_count": 5,
   "metadata": {
    "scrolled": true
   },
   "outputs": [
    {
     "data": {
      "text/html": [
       "<div>\n",
       "<style scoped>\n",
       "    .dataframe tbody tr th:only-of-type {\n",
       "        vertical-align: middle;\n",
       "    }\n",
       "\n",
       "    .dataframe tbody tr th {\n",
       "        vertical-align: top;\n",
       "    }\n",
       "\n",
       "    .dataframe thead th {\n",
       "        text-align: right;\n",
       "    }\n",
       "</style>\n",
       "<table border=\"1\" class=\"dataframe\">\n",
       "  <thead>\n",
       "    <tr style=\"text-align: right;\">\n",
       "      <th></th>\n",
       "      <th>id</th>\n",
       "      <th>text</th>\n",
       "      <th>label</th>\n",
       "    </tr>\n",
       "  </thead>\n",
       "  <tbody>\n",
       "    <tr>\n",
       "      <th>0</th>\n",
       "      <td>0</td>\n",
       "      <td>Как отключить тариф?</td>\n",
       "      <td>FAQ - тарифы и услуги</td>\n",
       "    </tr>\n",
       "    <tr>\n",
       "      <th>1</th>\n",
       "      <td>1</td>\n",
       "      <td>тариф</td>\n",
       "      <td>мобильная связь - тарифы</td>\n",
       "    </tr>\n",
       "    <tr>\n",
       "      <th>2</th>\n",
       "      <td>2</td>\n",
       "      <td>тариф</td>\n",
       "      <td>мобильная связь - тарифы</td>\n",
       "    </tr>\n",
       "    <tr>\n",
       "      <th>3</th>\n",
       "      <td>3</td>\n",
       "      <td>Здрасте я хотел получить золотую карту</td>\n",
       "      <td>FAQ - тарифы и услуги</td>\n",
       "    </tr>\n",
       "    <tr>\n",
       "      <th>4</th>\n",
       "      <td>4</td>\n",
       "      <td>Золотую карту</td>\n",
       "      <td>FAQ - тарифы и услуги</td>\n",
       "    </tr>\n",
       "    <tr>\n",
       "      <th>5</th>\n",
       "      <td>5</td>\n",
       "      <td>Как отключить доступ в интернет</td>\n",
       "      <td>Мобильный интернет</td>\n",
       "    </tr>\n",
       "    <tr>\n",
       "      <th>6</th>\n",
       "      <td>6</td>\n",
       "      <td>Как запретить все звонки вне сети оператор</td>\n",
       "      <td>FAQ - интернет</td>\n",
       "    </tr>\n",
       "    <tr>\n",
       "      <th>7</th>\n",
       "      <td>7</td>\n",
       "      <td>тарифы для интернета</td>\n",
       "      <td>мобильная связь - тарифы</td>\n",
       "    </tr>\n",
       "    <tr>\n",
       "      <th>8</th>\n",
       "      <td>8</td>\n",
       "      <td>тариф</td>\n",
       "      <td>мобильная связь - тарифы</td>\n",
       "    </tr>\n",
       "    <tr>\n",
       "      <th>9</th>\n",
       "      <td>9</td>\n",
       "      <td>«тариф»</td>\n",
       "      <td>мобильная связь - тарифы</td>\n",
       "    </tr>\n",
       "  </tbody>\n",
       "</table>\n",
       "</div>"
      ],
      "text/plain": [
       "   id                                        text                     label\n",
       "0   0                        Как отключить тариф?     FAQ - тарифы и услуги\n",
       "1   1                                       тариф  мобильная связь - тарифы\n",
       "2   2                                       тариф  мобильная связь - тарифы\n",
       "3   3     Здрасте я хотел получить золотую карту      FAQ - тарифы и услуги\n",
       "4   4                               Золотую карту     FAQ - тарифы и услуги\n",
       "5   5            Как отключить доступ в интернет         Мобильный интернет\n",
       "6   6  Как запретить все звонки вне сети оператор            FAQ - интернет\n",
       "7   7                        тарифы для интернета  мобильная связь - тарифы\n",
       "8   8                                       тариф  мобильная связь - тарифы\n",
       "9   9                                     «тариф»  мобильная связь - тарифы"
      ]
     },
     "execution_count": 5,
     "metadata": {},
     "output_type": "execute_result"
    }
   ],
   "source": [
    "data_[:10]"
   ]
  },
  {
   "cell_type": "code",
   "execution_count": null,
   "metadata": {},
   "outputs": [],
   "source": []
  },
  {
   "cell_type": "code",
   "execution_count": 6,
   "metadata": {},
   "outputs": [],
   "source": [
    "data = data_.copy()"
   ]
  },
  {
   "cell_type": "code",
   "execution_count": 7,
   "metadata": {},
   "outputs": [],
   "source": [
    "def clean_text(value):\n",
    "    value = str(value).strip().lower()\n",
    "    value = value.strip(\"“ ”‘ ’«»\\\"'?!.;: \")\n",
    "    return value\n",
    "\n",
    "data['text_clean'] = data['text'].apply(clean_text)"
   ]
  },
  {
   "cell_type": "code",
   "execution_count": 8,
   "metadata": {},
   "outputs": [],
   "source": [
    "def md5(text):\n",
    "    h = hashlib.md5()\n",
    "    h.update(text.encode('utf-8'))\n",
    "    return h.digest()\n",
    "\n",
    "data['hash'] = data['text_clean'].apply(md5)"
   ]
  },
  {
   "cell_type": "code",
   "execution_count": 15,
   "metadata": {},
   "outputs": [
    {
     "name": "stdout",
     "output_type": "stream",
     "text": [
      "'__label__0': 'FAQ - интернет',\n",
      "'__label__1': 'FAQ - тарифы и услуги',\n",
      "'__label__2': 'SIM-карта и номер',\n",
      "'__label__3': 'Баланс',\n",
      "'__label__4': 'Личный кабинет',\n",
      "'__label__5': 'Мобильные услуги',\n",
      "'__label__6': 'Мобильный интернет',\n",
      "'__label__7': 'Оплата',\n",
      "'__label__8': 'Роуминг',\n",
      "'__label__9': 'Устройства',\n",
      "'__label__10': 'запрос обратной связи',\n",
      "'__label__11': 'мобильная связь - зона обслуживания',\n",
      "'__label__12': 'мобильная связь - тарифы',\n",
      "'__label__13': 'тарифы - подбор',\n"
     ]
    }
   ],
   "source": [
    "labels_ = sorted(data['label'].unique())\n",
    "\n",
    "labels = dict()\n",
    "for i, label in enumerate(labels_):\n",
    "    fasttext_label = f'__label__{i}'\n",
    "    labels.update({label: fasttext_label})\n",
    "    print(f'\\'{fasttext_label}\\': \\'{label}\\',')\n",
    "    \n",
    "data['fasttext_label'] = data['label'].apply(lambda l: labels.get(l))\n",
    "\n",
    "with open(OUT_LABELS_FILE, 'w') as out:\n",
    "    out.write('label,fasttext_label\\n')\n",
    "    for label, fasttext_label in labels.items():\n",
    "        out.write(f'{label},{fasttext_label}\\n')"
   ]
  },
  {
   "cell_type": "code",
   "execution_count": null,
   "metadata": {},
   "outputs": [],
   "source": []
  },
  {
   "cell_type": "code",
   "execution_count": 10,
   "metadata": {},
   "outputs": [],
   "source": [
    "hashs = sorted(data['hash'].unique())\n",
    "hashs_len = len(hashs)\n",
    "\n",
    "thresh = 0.8\n",
    "(train_hashs, test_hashs) = (hashs[:int(thresh*hashs_len)], hashs[int(thresh*hashs_len)+1:])"
   ]
  },
  {
   "cell_type": "code",
   "execution_count": 11,
   "metadata": {},
   "outputs": [
    {
     "name": "stdout",
     "output_type": "stream",
     "text": [
      "(26732, 6) (6067, 6)\n"
     ]
    }
   ],
   "source": [
    "train = data[data['hash'].isin(train_hashs)]\n",
    "test = data[data['hash'].isin(test_hashs)]\n",
    "\n",
    "print(train.shape, test.shape)"
   ]
  },
  {
   "cell_type": "code",
   "execution_count": null,
   "metadata": {},
   "outputs": [],
   "source": []
  },
  {
   "cell_type": "code",
   "execution_count": 12,
   "metadata": {},
   "outputs": [],
   "source": [
    "pickle.dump(train, open(OUT_TRAIN_FILE, \"wb\"))\n",
    "pickle.dump(test, open(OUT_TEST_FILE, \"wb\"))"
   ]
  }
 ],
 "metadata": {
  "kernelspec": {
   "display_name": "Python 3",
   "language": "python",
   "name": "python3"
  },
  "language_info": {
   "codemirror_mode": {
    "name": "ipython",
    "version": 3
   },
   "file_extension": ".py",
   "mimetype": "text/x-python",
   "name": "python",
   "nbconvert_exporter": "python",
   "pygments_lexer": "ipython3",
   "version": "3.6.6"
  }
 },
 "nbformat": 4,
 "nbformat_minor": 2
}
